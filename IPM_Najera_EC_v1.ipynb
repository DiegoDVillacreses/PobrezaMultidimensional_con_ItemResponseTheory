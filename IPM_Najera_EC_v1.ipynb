{
 "cells": [
  {
   "cell_type": "markdown",
   "metadata": {},
   "source": [
    "<center><font size=\"6\">IPM para Ecuador basado en Nájera</font></center>\n",
    "Ejercicio aplicado a datos de Ecuador basado en: https://github.com/hectornajera83/Taller-quito"
   ]
  },
  {
   "cell_type": "code",
   "execution_count": 3,
   "metadata": {
    "ExecuteTime": {
     "end_time": "2019-06-20T15:21:33.194525Z",
     "start_time": "2019-06-20T15:21:33.152Z"
    }
   },
   "outputs": [],
   "source": [
    "#Librerias para SEM, IRT y sus indicadores\n",
    "library(\"psych\")\n",
    "library(\"ltm\")\n",
    "#Para importar información desde Stata\n",
    "library('readstata13')\n",
    "#Para manejo de bases de datos (abajo dplyr)\n",
    "library('data.table')\n",
    "#Para usar pipes\n",
    "library(\"magrittr\")"
   ]
  },
  {
   "cell_type": "code",
   "execution_count": 4,
   "metadata": {
    "ExecuteTime": {
     "end_time": "2019-06-20T15:21:33.832908Z",
     "start_time": "2019-06-20T15:21:33.799Z"
    }
   },
   "outputs": [],
   "source": [
    "#Directorio de bases de datos (bdd) de encuestas Ecuador\n",
    "    #A veces mejor setear directorio que un proyecto (?)\n",
    "dir = \"C:/Users/dvill/Desktop/MT/Taller Najera/Data\"\n",
    "setwd(dir)"
   ]
  },
  {
   "cell_type": "code",
   "execution_count": 6,
   "metadata": {
    "ExecuteTime": {
     "end_time": "2019-06-20T15:25:06.327395Z",
     "start_time": "2019-06-20T15:25:05.502Z"
    }
   },
   "outputs": [],
   "source": [
    "##Cargo información de ENEMDU diciembre 2018\n",
    "#Prefiero no trabajar con factores, aún falta mejoras para su uso en R (?)\n",
    "#Tengo 3 bdd:\n",
    "    #1) matriz de información de ENEMDU diciembre 2018: enem18dic (data.table)\n",
    "    #2) matriz con detalle de variables de enem18dic: enem18dic.var.labels (data.table)\n",
    "    #3) lista de información de etiquetas de valores de variables: \n",
    "        # enem18dic.val.labels (lista R-base)\n",
    "\n",
    "enem18dic = fread(file = \"enem18dic.csv\")\n",
    "enem18dic.var.labels = fread( file = \"enem18dic.var.labels.csv\")\n",
    "enem18dic.val.labels = readRDS(file = \"enem18dic.val.labels.RDS\")"
   ]
  },
  {
   "cell_type": "code",
   "execution_count": 8,
   "metadata": {
    "ExecuteTime": {
     "end_time": "2019-06-20T15:25:58.507715Z",
     "start_time": "2019-06-20T15:25:58.469Z"
    }
   },
   "outputs": [
    {
     "data": {
      "text/html": [
       "<ol class=list-inline>\n",
       "\t<li>59350</li>\n",
       "\t<li>427</li>\n",
       "</ol>\n"
      ],
      "text/latex": [
       "\\begin{enumerate*}\n",
       "\\item 59350\n",
       "\\item 427\n",
       "\\end{enumerate*}\n"
      ],
      "text/markdown": [
       "1. 59350\n",
       "2. 427\n",
       "\n",
       "\n"
      ],
      "text/plain": [
       "[1] 59350   427"
      ]
     },
     "metadata": {},
     "output_type": "display_data"
    }
   ],
   "source": [
    "#En diciembre 2018 se levantaron 59 mil encuestas\n",
    "dim(enem18dic)"
   ]
  },
  {
   "cell_type": "markdown",
   "metadata": {},
   "source": [
    "# Confiabilidad"
   ]
  },
  {
   "cell_type": "markdown",
   "metadata": {},
   "source": [
    "## Análisis Factorial Exploratorio"
   ]
  },
  {
   "cell_type": "code",
   "execution_count": null,
   "metadata": {},
   "outputs": [],
   "source": []
  }
 ],
 "metadata": {
  "gist": {
   "data": {
    "description": "Jupyter/IPM_Najera_EC_v1.ipynb",
    "public": false
   },
   "id": ""
  },
  "kernelspec": {
   "display_name": "R",
   "language": "R",
   "name": "ir"
  },
  "language_info": {
   "codemirror_mode": "r",
   "file_extension": ".r",
   "mimetype": "text/x-r-source",
   "name": "R",
   "pygments_lexer": "r",
   "version": "3.6.0"
  },
  "latex_envs": {
   "LaTeX_envs_menu_present": true,
   "autoclose": false,
   "autocomplete": true,
   "bibliofile": "biblio.bib",
   "cite_by": "apalike",
   "current_citInitial": 1,
   "eqLabelWithNumbers": true,
   "eqNumInitial": 1,
   "hotkeys": {
    "equation": "Ctrl-E",
    "itemize": "Ctrl-I"
   },
   "labels_anchors": false,
   "latex_user_defs": false,
   "report_style_numbering": false,
   "user_envs_cfg": false
  },
  "toc": {
   "base_numbering": 1,
   "nav_menu": {},
   "number_sections": true,
   "sideBar": true,
   "skip_h1_title": false,
   "title_cell": "Table of Contents",
   "title_sidebar": "Contents",
   "toc_cell": false,
   "toc_position": {},
   "toc_section_display": true,
   "toc_window_display": false
  }
 },
 "nbformat": 4,
 "nbformat_minor": 2
}

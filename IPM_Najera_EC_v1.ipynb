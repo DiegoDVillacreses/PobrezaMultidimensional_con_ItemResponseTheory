{
 "cells": [
  {
   "cell_type": "markdown",
   "metadata": {},
   "source": [
    "<center><font size=\"6\">IPM para Ecuador basado en Nájera</font></center>\n",
    "\n",
    "Ejercicio aplicado a datos de Ecuador basado en: https://github.com/hectornajera83/Taller-quito\n",
    "\n",
    "Notebook realizado en Jupyter con Kernel de R: IRkernel"
   ]
  },
  {
   "cell_type": "code",
   "execution_count": 27,
   "metadata": {
    "ExecuteTime": {
     "end_time": "2019-06-20T15:47:29.856157Z",
     "start_time": "2019-06-20T15:47:29.823Z"
    }
   },
   "outputs": [],
   "source": [
    "rm(list=ls())"
   ]
  },
  {
   "cell_type": "code",
   "execution_count": 58,
   "metadata": {
    "ExecuteTime": {
     "end_time": "2019-06-20T16:16:19.179956Z",
     "start_time": "2019-06-20T16:16:19.134Z"
    },
    "code_folding": []
   },
   "outputs": [],
   "source": [
    "#Librerias para IRT, Alpha de Cronbach y Omega\n",
    "library(\"psych\")\n",
    "library(\"ltm\")\n",
    "#Librería para Latent Variable Analysis\n",
    "library(\"lavaan\")\n",
    "#Para importar información desde Stata\n",
    "library('readstata13')\n",
    "#Para manejo de bases de datos (abajo dplyr)\n",
    "library('data.table')\n",
    "#Para usar pipes\n",
    "library(\"magrittr\")"
   ]
  },
  {
   "cell_type": "code",
   "execution_count": 29,
   "metadata": {
    "ExecuteTime": {
     "end_time": "2019-06-20T15:47:33.390124Z",
     "start_time": "2019-06-20T15:47:33.354Z"
    }
   },
   "outputs": [],
   "source": [
    "#Directorio de bases de datos (bdd) de encuestas Ecuador\n",
    "    #A veces mejor setear directorio que un proyecto (?)\n",
    "dir = \"C:/Users/dvill/Desktop/MT/Taller Najera/Data\"\n",
    "setwd(dir)"
   ]
  },
  {
   "cell_type": "code",
   "execution_count": 30,
   "metadata": {
    "ExecuteTime": {
     "end_time": "2019-06-20T15:47:34.889031Z",
     "start_time": "2019-06-20T15:47:34.439Z"
    }
   },
   "outputs": [],
   "source": [
    "##Cargo información de ENEMDU diciembre 2018\n",
    "#Prefiero no trabajar con factores, aún falta mejoras para su uso en R (?)\n",
    "#Tengo 3 bdd:\n",
    "    #1) matriz de información de ENEMDU diciembre 2018: enem18dic (data.table)\n",
    "    #2) matriz con detalle de variables de enem18dic: enem18dic.var.labels (data.table)\n",
    "    #3) lista de información de etiquetas de valores de variables: \n",
    "        # enem18dic.val.labels (lista R-base)\n",
    "\n",
    "en18dic = fread(file = \"enem18dic.csv\")\n",
    "en18dic.var.labels = fread( file = \"enem18dic.var.labels.csv\")\n",
    "en18dic.val.labels = readRDS(file = \"enem18dic.val.labels.RDS\")"
   ]
  },
  {
   "cell_type": "code",
   "execution_count": 31,
   "metadata": {
    "ExecuteTime": {
     "end_time": "2019-06-20T15:47:40.712227Z",
     "start_time": "2019-06-20T15:47:40.666Z"
    }
   },
   "outputs": [
    {
     "data": {
      "text/html": [
       "<table>\n",
       "<caption>A data.table: 6 × 2</caption>\n",
       "<thead>\n",
       "\t<tr><th scope=col>VarName</th><th scope=col>VarLabel</th></tr>\n",
       "\t<tr><th scope=col>&lt;chr&gt;</th><th scope=col>&lt;chr&gt;</th></tr>\n",
       "</thead>\n",
       "<tbody>\n",
       "\t<tr><td>id_upm  </td><td>Identificador de la unidad primaria de muestreo</td></tr>\n",
       "\t<tr><td>id_viv  </td><td>Identificador de vivienda                      </td></tr>\n",
       "\t<tr><td>id_hogar</td><td>Identificador del hogar                        </td></tr>\n",
       "\t<tr><td>id_per  </td><td>Identificador de la persona                    </td></tr>\n",
       "\t<tr><td>area    </td><td>area                                           </td></tr>\n",
       "\t<tr><td>ciudad  </td><td>ciudad                                         </td></tr>\n",
       "</tbody>\n",
       "</table>\n"
      ],
      "text/latex": [
       "A data.table: 6 × 2\n",
       "\\begin{tabular}{r|ll}\n",
       " VarName & VarLabel\\\\\n",
       " <chr> & <chr>\\\\\n",
       "\\hline\n",
       "\t id\\_upm   & Identificador de la unidad primaria de muestreo\\\\\n",
       "\t id\\_viv   & Identificador de vivienda                      \\\\\n",
       "\t id\\_hogar & Identificador del hogar                        \\\\\n",
       "\t id\\_per   & Identificador de la persona                    \\\\\n",
       "\t area     & area                                           \\\\\n",
       "\t ciudad   & ciudad                                         \\\\\n",
       "\\end{tabular}\n"
      ],
      "text/markdown": [
       "\n",
       "A data.table: 6 × 2\n",
       "\n",
       "| VarName &lt;chr&gt; | VarLabel &lt;chr&gt; |\n",
       "|---|---|\n",
       "| id_upm   | Identificador de la unidad primaria de muestreo |\n",
       "| id_viv   | Identificador de vivienda                       |\n",
       "| id_hogar | Identificador del hogar                         |\n",
       "| id_per   | Identificador de la persona                     |\n",
       "| area     | area                                            |\n",
       "| ciudad   | ciudad                                          |\n",
       "\n"
      ],
      "text/plain": [
       "  VarName  VarLabel                                       \n",
       "1 id_upm   Identificador de la unidad primaria de muestreo\n",
       "2 id_viv   Identificador de vivienda                      \n",
       "3 id_hogar Identificador del hogar                        \n",
       "4 id_per   Identificador de la persona                    \n",
       "5 area     area                                           \n",
       "6 ciudad   ciudad                                         "
      ]
     },
     "metadata": {},
     "output_type": "display_data"
    }
   ],
   "source": [
    "head(en18dic.var.labels)"
   ]
  },
  {
   "cell_type": "code",
   "execution_count": 33,
   "metadata": {
    "ExecuteTime": {
     "end_time": "2019-06-20T15:47:46.699452Z",
     "start_time": "2019-06-20T15:47:46.661Z"
    }
   },
   "outputs": [
    {
     "data": {
      "text/html": [
       "<ol class=list-inline>\n",
       "\t<li>59350</li>\n",
       "\t<li>427</li>\n",
       "</ol>\n"
      ],
      "text/latex": [
       "\\begin{enumerate*}\n",
       "\\item 59350\n",
       "\\item 427\n",
       "\\end{enumerate*}\n"
      ],
      "text/markdown": [
       "1. 59350\n",
       "2. 427\n",
       "\n",
       "\n"
      ],
      "text/plain": [
       "[1] 59350   427"
      ]
     },
     "metadata": {},
     "output_type": "display_data"
    }
   ],
   "source": [
    "#En diciembre 2018 se levantaron 59 mil encuestas\n",
    "dim(en18dic)"
   ]
  },
  {
   "cell_type": "code",
   "execution_count": 34,
   "metadata": {
    "ExecuteTime": {
     "end_time": "2019-06-20T15:47:48.651832Z",
     "start_time": "2019-06-20T15:47:48.614Z"
    }
   },
   "outputs": [],
   "source": [
    "#Lista de variables candidatas para IPM\n",
    "vars = \"dim1_ind1_h dim1_ind2_h dim1_ind3_h dim2_ind1_h dim2_ind2_h \n",
    "        dim2_ind3_h dim3_ind1_h dim3_ind2_h dim4_ind1_h dim4_ind2_h \n",
    "        dim4_ind3_h dim4_ind4_h\"\n",
    "vars = vars %>% strsplit(split = \" \") %>% unlist\n",
    "vars = vars[vars %in% c(\"\\n\", \"\")==F]"
   ]
  },
  {
   "cell_type": "markdown",
   "metadata": {},
   "source": [
    "# Confiabilidad"
   ]
  },
  {
   "cell_type": "markdown",
   "metadata": {},
   "source": [
    "## Análisis Factorial Exploratorio"
   ]
  },
  {
   "cell_type": "markdown",
   "metadata": {},
   "source": [
    "### Exploración de variables propuestas"
   ]
  },
  {
   "cell_type": "code",
   "execution_count": 104,
   "metadata": {
    "ExecuteTime": {
     "end_time": "2019-06-20T16:46:53.601103Z",
     "start_time": "2019-06-20T16:46:53.178Z"
    }
   },
   "outputs": [
    {
     "data": {
      "text/html": [
       "<table>\n",
       "<caption>A data.frame: 12 × 3</caption>\n",
       "<thead>\n",
       "\t<tr><th scope=col>VarLab</th><th scope=col>mean</th><th scope=col>w.mean</th></tr>\n",
       "\t<tr><th scope=col>&lt;chr&gt;</th><th scope=col>&lt;dbl&gt;</th><th scope=col>&lt;dbl&gt;</th></tr>\n",
       "</thead>\n",
       "<tbody>\n",
       "\t<tr><td>Inasistencia a educaciÃ³n general bÃ¡sica y bachillerato -nivel de hogar  </td><td>0.10805392</td><td>0.12811452</td></tr>\n",
       "\t<tr><td>VulneraciÃ³n del acceso a educaciÃ³n superior -nivel de hogar             </td><td>0.08439764</td><td>0.08064356</td></tr>\n",
       "\t<tr><td>Logro educativo incompleto -nivel de hogar                                </td><td>0.54766639</td><td>0.57179540</td></tr>\n",
       "\t<tr><td>Empleo infantil y adolescente -nivel de hogar                             </td><td>0.06638585</td><td>0.07682566</td></tr>\n",
       "\t<tr><td>Desempleo y empleo inadecuado -nivel de hogar                             </td><td>0.69405223</td><td>0.69559640</td></tr>\n",
       "\t<tr><td>No contribuciÃ³n al sistema de pensiones -nivel de hogar                  </td><td>0.66424600</td><td>0.68181382</td></tr>\n",
       "\t<tr><td>Pobreza extrema por ingresos -nivel de hogar                              </td><td>0.07127211</td><td>0.08349788</td></tr>\n",
       "\t<tr><td>Hogares sin provisiÃ³n de agua por red pÃºblica -nivel de hogar           </td><td>0.21590564</td><td>0.21382864</td></tr>\n",
       "\t<tr><td>Personas en condiciÃ³n de hacinamiento -nivel de hogar                    </td><td>0.13039596</td><td>0.16728352</td></tr>\n",
       "\t<tr><td>Viviendas en condiciones inadecuadas -nivel de hogar                      </td><td>0.48414490</td><td>0.48742508</td></tr>\n",
       "\t<tr><td>Viviendas sin adecuado sistema de eliminaciÃ³n de excretas -nivel de hogar</td><td>0.18990733</td><td>0.22652001</td></tr>\n",
       "\t<tr><td>Viviendas sin acceso a recolecciÃ³n de basura -nivel de hogar             </td><td>0.18711036</td><td>0.18259807</td></tr>\n",
       "</tbody>\n",
       "</table>\n"
      ],
      "text/latex": [
       "A data.frame: 12 × 3\n",
       "\\begin{tabular}{r|lll}\n",
       " VarLab & mean & w.mean\\\\\n",
       " <chr> & <dbl> & <dbl>\\\\\n",
       "\\hline\n",
       "\t Inasistencia a educaciÃ³n general bÃ¡sica y bachillerato -nivel de hogar   & 0.10805392 & 0.12811452\\\\\n",
       "\t VulneraciÃ³n del acceso a educaciÃ³n superior -nivel de hogar              & 0.08439764 & 0.08064356\\\\\n",
       "\t Logro educativo incompleto -nivel de hogar                                 & 0.54766639 & 0.57179540\\\\\n",
       "\t Empleo infantil y adolescente -nivel de hogar                              & 0.06638585 & 0.07682566\\\\\n",
       "\t Desempleo y empleo inadecuado -nivel de hogar                              & 0.69405223 & 0.69559640\\\\\n",
       "\t No contribuciÃ³n al sistema de pensiones -nivel de hogar                   & 0.66424600 & 0.68181382\\\\\n",
       "\t Pobreza extrema por ingresos -nivel de hogar                               & 0.07127211 & 0.08349788\\\\\n",
       "\t Hogares sin provisiÃ³n de agua por red pÃºblica -nivel de hogar            & 0.21590564 & 0.21382864\\\\\n",
       "\t Personas en condiciÃ³n de hacinamiento -nivel de hogar                     & 0.13039596 & 0.16728352\\\\\n",
       "\t Viviendas en condiciones inadecuadas -nivel de hogar                       & 0.48414490 & 0.48742508\\\\\n",
       "\t Viviendas sin adecuado sistema de eliminaciÃ³n de excretas -nivel de hogar & 0.18990733 & 0.22652001\\\\\n",
       "\t Viviendas sin acceso a recolecciÃ³n de basura -nivel de hogar              & 0.18711036 & 0.18259807\\\\\n",
       "\\end{tabular}\n"
      ],
      "text/markdown": [
       "\n",
       "A data.frame: 12 × 3\n",
       "\n",
       "| VarLab &lt;chr&gt; | mean &lt;dbl&gt; | w.mean &lt;dbl&gt; |\n",
       "|---|---|---|\n",
       "| Inasistencia a educaciÃ³n general bÃ¡sica y bachillerato -nivel de hogar   | 0.10805392 | 0.12811452 |\n",
       "| VulneraciÃ³n del acceso a educaciÃ³n superior -nivel de hogar              | 0.08439764 | 0.08064356 |\n",
       "| Logro educativo incompleto -nivel de hogar                                 | 0.54766639 | 0.57179540 |\n",
       "| Empleo infantil y adolescente -nivel de hogar                              | 0.06638585 | 0.07682566 |\n",
       "| Desempleo y empleo inadecuado -nivel de hogar                              | 0.69405223 | 0.69559640 |\n",
       "| No contribuciÃ³n al sistema de pensiones -nivel de hogar                   | 0.66424600 | 0.68181382 |\n",
       "| Pobreza extrema por ingresos -nivel de hogar                               | 0.07127211 | 0.08349788 |\n",
       "| Hogares sin provisiÃ³n de agua por red pÃºblica -nivel de hogar            | 0.21590564 | 0.21382864 |\n",
       "| Personas en condiciÃ³n de hacinamiento -nivel de hogar                     | 0.13039596 | 0.16728352 |\n",
       "| Viviendas en condiciones inadecuadas -nivel de hogar                       | 0.48414490 | 0.48742508 |\n",
       "| Viviendas sin adecuado sistema de eliminaciÃ³n de excretas -nivel de hogar | 0.18990733 | 0.22652001 |\n",
       "| Viviendas sin acceso a recolecciÃ³n de basura -nivel de hogar              | 0.18711036 | 0.18259807 |\n",
       "\n"
      ],
      "text/plain": [
       "   VarLab                                                                    \n",
       "1  Inasistencia a educaciÃ³n general bÃ¡sica y bachillerato -nivel de hogar  \n",
       "2  VulneraciÃ³n del acceso a educaciÃ³n superior -nivel de hogar             \n",
       "3  Logro educativo incompleto -nivel de hogar                                \n",
       "4  Empleo infantil y adolescente -nivel de hogar                             \n",
       "5  Desempleo y empleo inadecuado -nivel de hogar                             \n",
       "6  No contribuciÃ³n al sistema de pensiones -nivel de hogar                  \n",
       "7  Pobreza extrema por ingresos -nivel de hogar                              \n",
       "8  Hogares sin provisiÃ³n de agua por red pÃºblica -nivel de hogar           \n",
       "9  Personas en condiciÃ³n de hacinamiento -nivel de hogar                    \n",
       "10 Viviendas en condiciones inadecuadas -nivel de hogar                      \n",
       "11 Viviendas sin adecuado sistema de eliminaciÃ³n de excretas -nivel de hogar\n",
       "12 Viviendas sin acceso a recolecciÃ³n de basura -nivel de hogar             \n",
       "   mean       w.mean    \n",
       "1  0.10805392 0.12811452\n",
       "2  0.08439764 0.08064356\n",
       "3  0.54766639 0.57179540\n",
       "4  0.06638585 0.07682566\n",
       "5  0.69405223 0.69559640\n",
       "6  0.66424600 0.68181382\n",
       "7  0.07127211 0.08349788\n",
       "8  0.21590564 0.21382864\n",
       "9  0.13039596 0.16728352\n",
       "10 0.48414490 0.48742508\n",
       "11 0.18990733 0.22652001\n",
       "12 0.18711036 0.18259807"
      ]
     },
     "metadata": {},
     "output_type": "display_data"
    }
   ],
   "source": [
    "res1 = data.frame(\"VarLab\" = NA, \"mean\" = NA, \"w.mean\" = NA)\n",
    "#loops en R <3\n",
    "i = 0\n",
    "for (x in vars){\n",
    "    i = i + 1\n",
    "    res1[i,\"VarLab\"] = en18dic.var.labels[VarName == x, VarLabel]\n",
    "    res1[i,\"mean\"] = en18dic[, mean(get(x))]\n",
    "    res1[i,\"w.mean\"] = en18dic[, weighted.mean(get(x), fexp)] #sin summarize\n",
    "}\n",
    "res1"
   ]
  },
  {
   "cell_type": "markdown",
   "metadata": {},
   "source": [
    "Acá el objetivo es encontrar variables que potencialmente tengan prevalencias poco intuitivas. Este es un ejercicio subjetivo"
   ]
  },
  {
   "cell_type": "markdown",
   "metadata": {},
   "source": [
    "###\tAlpha de Cronbach "
   ]
  },
  {
   "cell_type": "code",
   "execution_count": 105,
   "metadata": {
    "ExecuteTime": {
     "end_time": "2019-06-20T16:46:56.864594Z",
     "start_time": "2019-06-20T16:46:55.961Z"
    }
   },
   "outputs": [],
   "source": [
    "alpha1<-psych::alpha(en18dic[,mget(vars)])"
   ]
  },
  {
   "cell_type": "code",
   "execution_count": 106,
   "metadata": {
    "ExecuteTime": {
     "end_time": "2019-06-20T16:46:57.369087Z",
     "start_time": "2019-06-20T16:46:57.328Z"
    }
   },
   "outputs": [
    {
     "data": {
      "text/html": [
       "<table>\n",
       "<caption>A data.frame: 1 × 9</caption>\n",
       "<thead>\n",
       "\t<tr><th scope=col>raw_alpha</th><th scope=col>std.alpha</th><th scope=col>G6(smc)</th><th scope=col>average_r</th><th scope=col>S/N</th><th scope=col>ase</th><th scope=col>mean</th><th scope=col>sd</th><th scope=col>median_r</th></tr>\n",
       "\t<tr><th scope=col>&lt;dbl&gt;</th><th scope=col>&lt;dbl&gt;</th><th scope=col>&lt;dbl&gt;</th><th scope=col>&lt;dbl&gt;</th><th scope=col>&lt;dbl&gt;</th><th scope=col>&lt;dbl&gt;</th><th scope=col>&lt;dbl&gt;</th><th scope=col>&lt;dbl&gt;</th><th scope=col>&lt;dbl&gt;</th></tr>\n",
       "</thead>\n",
       "<tbody>\n",
       "\t<tr><td>0.7132027</td><td>0.7070646</td><td>0.715708</td><td>0.16746</td><td>2.413722</td><td>0.001668119</td><td>0.2869615</td><td>0.1912352</td><td>0.1571697</td></tr>\n",
       "</tbody>\n",
       "</table>\n"
      ],
      "text/latex": [
       "A data.frame: 1 × 9\n",
       "\\begin{tabular}{r|lllllllll}\n",
       " raw\\_alpha & std.alpha & G6(smc) & average\\_r & S/N & ase & mean & sd & median\\_r\\\\\n",
       " <dbl> & <dbl> & <dbl> & <dbl> & <dbl> & <dbl> & <dbl> & <dbl> & <dbl>\\\\\n",
       "\\hline\n",
       "\t 0.7132027 & 0.7070646 & 0.715708 & 0.16746 & 2.413722 & 0.001668119 & 0.2869615 & 0.1912352 & 0.1571697\\\\\n",
       "\\end{tabular}\n"
      ],
      "text/markdown": [
       "\n",
       "A data.frame: 1 × 9\n",
       "\n",
       "| raw_alpha &lt;dbl&gt; | std.alpha &lt;dbl&gt; | G6(smc) &lt;dbl&gt; | average_r &lt;dbl&gt; | S/N &lt;dbl&gt; | ase &lt;dbl&gt; | mean &lt;dbl&gt; | sd &lt;dbl&gt; | median_r &lt;dbl&gt; |\n",
       "|---|---|---|---|---|---|---|---|---|\n",
       "| 0.7132027 | 0.7070646 | 0.715708 | 0.16746 | 2.413722 | 0.001668119 | 0.2869615 | 0.1912352 | 0.1571697 |\n",
       "\n"
      ],
      "text/plain": [
       " raw_alpha std.alpha G6(smc)  average_r S/N      ase         mean     \n",
       " 0.7132027 0.7070646 0.715708 0.16746   2.413722 0.001668119 0.2869615\n",
       " sd        median_r \n",
       " 0.1912352 0.1571697"
      ]
     },
     "metadata": {},
     "output_type": "display_data"
    }
   ],
   "source": [
    "#Alpha total para conjunto de variables propuesto\n",
    "    #Reliability analysis \n",
    "alpha1$total"
   ]
  },
  {
   "cell_type": "markdown",
   "metadata": {},
   "source": [
    "Los valores de Alpha recomendados son XXXX, según XXXX. Este indicador tiene debilidades, siempre se recomienda profundizar con el análisis del indicador Omega."
   ]
  },
  {
   "cell_type": "code",
   "execution_count": 107,
   "metadata": {
    "ExecuteTime": {
     "end_time": "2019-06-20T16:46:59.364041Z",
     "start_time": "2019-06-20T16:46:59.313Z"
    }
   },
   "outputs": [
    {
     "data": {
      "text/html": [
       "<table>\n",
       "<caption>A data.frame: 12 × 8</caption>\n",
       "<thead>\n",
       "\t<tr><th></th><th scope=col>raw_alpha</th><th scope=col>std.alpha</th><th scope=col>G6(smc)</th><th scope=col>average_r</th><th scope=col>S/N</th><th scope=col>alpha se</th><th scope=col>var.r</th><th scope=col>med.r</th></tr>\n",
       "\t<tr><th></th><th scope=col>&lt;dbl&gt;</th><th scope=col>&lt;dbl&gt;</th><th scope=col>&lt;dbl&gt;</th><th scope=col>&lt;dbl&gt;</th><th scope=col>&lt;dbl&gt;</th><th scope=col>&lt;dbl&gt;</th><th scope=col>&lt;dbl&gt;</th><th scope=col>&lt;dbl&gt;</th></tr>\n",
       "</thead>\n",
       "<tbody>\n",
       "\t<tr><th scope=row>dim1_ind1_h</th><td>0.7059350</td><td>0.6978981</td><td>0.7037743</td><td>0.1735625</td><td>2.310141</td><td>0.001713868</td><td>0.010382162</td><td>0.1653083</td></tr>\n",
       "\t<tr><th scope=row>dim1_ind2_h</th><td>0.7205153</td><td>0.7226378</td><td>0.7277772</td><td>0.1914972</td><td>2.605394</td><td>0.001650879</td><td>0.007889410</td><td>0.1673545</td></tr>\n",
       "\t<tr><th scope=row>dim1_ind3_h</th><td>0.6784367</td><td>0.6746547</td><td>0.6845662</td><td>0.1586134</td><td>2.073657</td><td>0.001888858</td><td>0.010459241</td><td>0.1407375</td></tr>\n",
       "\t<tr><th scope=row>dim2_ind1_h</th><td>0.7015845</td><td>0.6911956</td><td>0.6983986</td><td>0.1690773</td><td>2.238296</td><td>0.001744849</td><td>0.010731996</td><td>0.1574396</td></tr>\n",
       "\t<tr><th scope=row>dim2_ind2_h</th><td>0.6851860</td><td>0.6814128</td><td>0.6845692</td><td>0.1627888</td><td>2.138859</td><td>0.001834308</td><td>0.009757477</td><td>0.1568998</td></tr>\n",
       "\t<tr><th scope=row>dim2_ind3_h</th><td>0.7033710</td><td>0.6958411</td><td>0.6976880</td><td>0.1721702</td><td>2.287755</td><td>0.001717750</td><td>0.009397127</td><td>0.1653083</td></tr>\n",
       "\t<tr><th scope=row>dim3_ind1_h</th><td>0.7022749</td><td>0.6935633</td><td>0.7034902</td><td>0.1706448</td><td>2.263316</td><td>0.001742410</td><td>0.011255602</td><td>0.1431168</td></tr>\n",
       "\t<tr><th scope=row>dim3_ind2_h</th><td>0.6795186</td><td>0.6730502</td><td>0.6731709</td><td>0.1576415</td><td>2.058573</td><td>0.001863801</td><td>0.007354594</td><td>0.1521943</td></tr>\n",
       "\t<tr><th scope=row>dim4_ind1_h</th><td>0.6990778</td><td>0.6911010</td><td>0.6998233</td><td>0.1690151</td><td>2.237304</td><td>0.001750441</td><td>0.011232718</td><td>0.1574396</td></tr>\n",
       "\t<tr><th scope=row>dim4_ind2_h</th><td>0.6785415</td><td>0.6743875</td><td>0.6836793</td><td>0.1584510</td><td>2.071135</td><td>0.001887624</td><td>0.009923074</td><td>0.1453322</td></tr>\n",
       "\t<tr><th scope=row>dim4_ind3_h</th><td>0.6935830</td><td>0.6870359</td><td>0.6956614</td><td>0.1663670</td><td>2.195255</td><td>0.001782048</td><td>0.010261445</td><td>0.1574396</td></tr>\n",
       "\t<tr><th scope=row>dim4_ind4_h</th><td>0.6836468</td><td>0.6764205</td><td>0.6779742</td><td>0.1596915</td><td>2.090431</td><td>0.001838861</td><td>0.007892802</td><td>0.1521943</td></tr>\n",
       "</tbody>\n",
       "</table>\n"
      ],
      "text/latex": [
       "A data.frame: 12 × 8\n",
       "\\begin{tabular}{r|llllllll}\n",
       "  & raw\\_alpha & std.alpha & G6(smc) & average\\_r & S/N & alpha se & var.r & med.r\\\\\n",
       "  & <dbl> & <dbl> & <dbl> & <dbl> & <dbl> & <dbl> & <dbl> & <dbl>\\\\\n",
       "\\hline\n",
       "\tdim1\\_ind1\\_h & 0.7059350 & 0.6978981 & 0.7037743 & 0.1735625 & 2.310141 & 0.001713868 & 0.010382162 & 0.1653083\\\\\n",
       "\tdim1\\_ind2\\_h & 0.7205153 & 0.7226378 & 0.7277772 & 0.1914972 & 2.605394 & 0.001650879 & 0.007889410 & 0.1673545\\\\\n",
       "\tdim1\\_ind3\\_h & 0.6784367 & 0.6746547 & 0.6845662 & 0.1586134 & 2.073657 & 0.001888858 & 0.010459241 & 0.1407375\\\\\n",
       "\tdim2\\_ind1\\_h & 0.7015845 & 0.6911956 & 0.6983986 & 0.1690773 & 2.238296 & 0.001744849 & 0.010731996 & 0.1574396\\\\\n",
       "\tdim2\\_ind2\\_h & 0.6851860 & 0.6814128 & 0.6845692 & 0.1627888 & 2.138859 & 0.001834308 & 0.009757477 & 0.1568998\\\\\n",
       "\tdim2\\_ind3\\_h & 0.7033710 & 0.6958411 & 0.6976880 & 0.1721702 & 2.287755 & 0.001717750 & 0.009397127 & 0.1653083\\\\\n",
       "\tdim3\\_ind1\\_h & 0.7022749 & 0.6935633 & 0.7034902 & 0.1706448 & 2.263316 & 0.001742410 & 0.011255602 & 0.1431168\\\\\n",
       "\tdim3\\_ind2\\_h & 0.6795186 & 0.6730502 & 0.6731709 & 0.1576415 & 2.058573 & 0.001863801 & 0.007354594 & 0.1521943\\\\\n",
       "\tdim4\\_ind1\\_h & 0.6990778 & 0.6911010 & 0.6998233 & 0.1690151 & 2.237304 & 0.001750441 & 0.011232718 & 0.1574396\\\\\n",
       "\tdim4\\_ind2\\_h & 0.6785415 & 0.6743875 & 0.6836793 & 0.1584510 & 2.071135 & 0.001887624 & 0.009923074 & 0.1453322\\\\\n",
       "\tdim4\\_ind3\\_h & 0.6935830 & 0.6870359 & 0.6956614 & 0.1663670 & 2.195255 & 0.001782048 & 0.010261445 & 0.1574396\\\\\n",
       "\tdim4\\_ind4\\_h & 0.6836468 & 0.6764205 & 0.6779742 & 0.1596915 & 2.090431 & 0.001838861 & 0.007892802 & 0.1521943\\\\\n",
       "\\end{tabular}\n"
      ],
      "text/markdown": [
       "\n",
       "A data.frame: 12 × 8\n",
       "\n",
       "| <!--/--> | raw_alpha &lt;dbl&gt; | std.alpha &lt;dbl&gt; | G6(smc) &lt;dbl&gt; | average_r &lt;dbl&gt; | S/N &lt;dbl&gt; | alpha se &lt;dbl&gt; | var.r &lt;dbl&gt; | med.r &lt;dbl&gt; |\n",
       "|---|---|---|---|---|---|---|---|---|\n",
       "| dim1_ind1_h | 0.7059350 | 0.6978981 | 0.7037743 | 0.1735625 | 2.310141 | 0.001713868 | 0.010382162 | 0.1653083 |\n",
       "| dim1_ind2_h | 0.7205153 | 0.7226378 | 0.7277772 | 0.1914972 | 2.605394 | 0.001650879 | 0.007889410 | 0.1673545 |\n",
       "| dim1_ind3_h | 0.6784367 | 0.6746547 | 0.6845662 | 0.1586134 | 2.073657 | 0.001888858 | 0.010459241 | 0.1407375 |\n",
       "| dim2_ind1_h | 0.7015845 | 0.6911956 | 0.6983986 | 0.1690773 | 2.238296 | 0.001744849 | 0.010731996 | 0.1574396 |\n",
       "| dim2_ind2_h | 0.6851860 | 0.6814128 | 0.6845692 | 0.1627888 | 2.138859 | 0.001834308 | 0.009757477 | 0.1568998 |\n",
       "| dim2_ind3_h | 0.7033710 | 0.6958411 | 0.6976880 | 0.1721702 | 2.287755 | 0.001717750 | 0.009397127 | 0.1653083 |\n",
       "| dim3_ind1_h | 0.7022749 | 0.6935633 | 0.7034902 | 0.1706448 | 2.263316 | 0.001742410 | 0.011255602 | 0.1431168 |\n",
       "| dim3_ind2_h | 0.6795186 | 0.6730502 | 0.6731709 | 0.1576415 | 2.058573 | 0.001863801 | 0.007354594 | 0.1521943 |\n",
       "| dim4_ind1_h | 0.6990778 | 0.6911010 | 0.6998233 | 0.1690151 | 2.237304 | 0.001750441 | 0.011232718 | 0.1574396 |\n",
       "| dim4_ind2_h | 0.6785415 | 0.6743875 | 0.6836793 | 0.1584510 | 2.071135 | 0.001887624 | 0.009923074 | 0.1453322 |\n",
       "| dim4_ind3_h | 0.6935830 | 0.6870359 | 0.6956614 | 0.1663670 | 2.195255 | 0.001782048 | 0.010261445 | 0.1574396 |\n",
       "| dim4_ind4_h | 0.6836468 | 0.6764205 | 0.6779742 | 0.1596915 | 2.090431 | 0.001838861 | 0.007892802 | 0.1521943 |\n",
       "\n"
      ],
      "text/plain": [
       "            raw_alpha std.alpha G6(smc)   average_r S/N      alpha se   \n",
       "dim1_ind1_h 0.7059350 0.6978981 0.7037743 0.1735625 2.310141 0.001713868\n",
       "dim1_ind2_h 0.7205153 0.7226378 0.7277772 0.1914972 2.605394 0.001650879\n",
       "dim1_ind3_h 0.6784367 0.6746547 0.6845662 0.1586134 2.073657 0.001888858\n",
       "dim2_ind1_h 0.7015845 0.6911956 0.6983986 0.1690773 2.238296 0.001744849\n",
       "dim2_ind2_h 0.6851860 0.6814128 0.6845692 0.1627888 2.138859 0.001834308\n",
       "dim2_ind3_h 0.7033710 0.6958411 0.6976880 0.1721702 2.287755 0.001717750\n",
       "dim3_ind1_h 0.7022749 0.6935633 0.7034902 0.1706448 2.263316 0.001742410\n",
       "dim3_ind2_h 0.6795186 0.6730502 0.6731709 0.1576415 2.058573 0.001863801\n",
       "dim4_ind1_h 0.6990778 0.6911010 0.6998233 0.1690151 2.237304 0.001750441\n",
       "dim4_ind2_h 0.6785415 0.6743875 0.6836793 0.1584510 2.071135 0.001887624\n",
       "dim4_ind3_h 0.6935830 0.6870359 0.6956614 0.1663670 2.195255 0.001782048\n",
       "dim4_ind4_h 0.6836468 0.6764205 0.6779742 0.1596915 2.090431 0.001838861\n",
       "            var.r       med.r    \n",
       "dim1_ind1_h 0.010382162 0.1653083\n",
       "dim1_ind2_h 0.007889410 0.1673545\n",
       "dim1_ind3_h 0.010459241 0.1407375\n",
       "dim2_ind1_h 0.010731996 0.1574396\n",
       "dim2_ind2_h 0.009757477 0.1568998\n",
       "dim2_ind3_h 0.009397127 0.1653083\n",
       "dim3_ind1_h 0.011255602 0.1431168\n",
       "dim3_ind2_h 0.007354594 0.1521943\n",
       "dim4_ind1_h 0.011232718 0.1574396\n",
       "dim4_ind2_h 0.009923074 0.1453322\n",
       "dim4_ind3_h 0.010261445 0.1574396\n",
       "dim4_ind4_h 0.007892802 0.1521943"
      ]
     },
     "metadata": {},
     "output_type": "display_data"
    }
   ],
   "source": [
    "#Alpha total para conjunto de variables propuesto\n",
    "    #Reliability if an item is dropped\n",
    "alpha1$alpha.drop"
   ]
  },
  {
   "cell_type": "markdown",
   "metadata": {},
   "source": [
    "Se puede considerar que las variables que al ser removidas reducen \"muy poco\" (cuanto es muy poco?) a Alpha, son redudantes y ayudan poco a comprender la variable latente."
   ]
  },
  {
   "cell_type": "markdown",
   "metadata": {},
   "source": [
    "### Item Response Theory - IRT de 2 parámetros"
   ]
  },
  {
   "cell_type": "code",
   "execution_count": 108,
   "metadata": {
    "ExecuteTime": {
     "end_time": "2019-06-20T16:47:06.167436Z",
     "start_time": "2019-06-20T16:47:01.663Z"
    }
   },
   "outputs": [],
   "source": [
    "rel_irt<-ltm::ltm(en18dic[,mget(vars)] ~ z1)"
   ]
  },
  {
   "cell_type": "code",
   "execution_count": 109,
   "metadata": {
    "ExecuteTime": {
     "end_time": "2019-06-20T16:47:07.236336Z",
     "start_time": "2019-06-20T16:47:07.185Z"
    }
   },
   "outputs": [
    {
     "data": {
      "text/html": [
       "<table>\n",
       "<caption>A data.table: 12 × 3</caption>\n",
       "<thead>\n",
       "\t<tr><th scope=col>Intercept</th><th scope=col>z1</th><th scope=col>VarName</th></tr>\n",
       "\t<tr><th scope=col>&lt;dbl&gt;</th><th scope=col>&lt;dbl&gt;</th><th scope=col>&lt;chr&gt;</th></tr>\n",
       "</thead>\n",
       "<tbody>\n",
       "\t<tr><td>-2.4634266</td><td>0.9963838</td><td>dim1_ind1_h</td></tr>\n",
       "\t<tr><td>-2.4579136</td><td>0.4254302</td><td>dim1_ind2_h</td></tr>\n",
       "\t<tr><td> 0.2646775</td><td>1.5494915</td><td>dim1_ind3_h</td></tr>\n",
       "\t<tr><td>-3.6229075</td><td>1.6441192</td><td>dim2_ind1_h</td></tr>\n",
       "\t<tr><td> 1.1220191</td><td>1.4406508</td><td>dim2_ind2_h</td></tr>\n",
       "\t<tr><td> 0.7943118</td><td>0.8925539</td><td>dim2_ind3_h</td></tr>\n",
       "\t<tr><td>-3.4240290</td><td>1.5361891</td><td>dim3_ind1_h</td></tr>\n",
       "\t<tr><td>-2.2309780</td><td>2.2365091</td><td>dim3_ind2_h</td></tr>\n",
       "\t<tr><td>-2.3299460</td><td>1.1597437</td><td>dim4_ind1_h</td></tr>\n",
       "\t<tr><td>-0.1030767</td><td>1.5931866</td><td>dim4_ind2_h</td></tr>\n",
       "\t<tr><td>-1.9087812</td><td>1.3458469</td><td>dim4_ind3_h</td></tr>\n",
       "\t<tr><td>-2.4378971</td><td>2.1218278</td><td>dim4_ind4_h</td></tr>\n",
       "</tbody>\n",
       "</table>\n"
      ],
      "text/latex": [
       "A data.table: 12 × 3\n",
       "\\begin{tabular}{r|lll}\n",
       " Intercept & z1 & VarName\\\\\n",
       " <dbl> & <dbl> & <chr>\\\\\n",
       "\\hline\n",
       "\t -2.4634266 & 0.9963838 & dim1\\_ind1\\_h\\\\\n",
       "\t -2.4579136 & 0.4254302 & dim1\\_ind2\\_h\\\\\n",
       "\t  0.2646775 & 1.5494915 & dim1\\_ind3\\_h\\\\\n",
       "\t -3.6229075 & 1.6441192 & dim2\\_ind1\\_h\\\\\n",
       "\t  1.1220191 & 1.4406508 & dim2\\_ind2\\_h\\\\\n",
       "\t  0.7943118 & 0.8925539 & dim2\\_ind3\\_h\\\\\n",
       "\t -3.4240290 & 1.5361891 & dim3\\_ind1\\_h\\\\\n",
       "\t -2.2309780 & 2.2365091 & dim3\\_ind2\\_h\\\\\n",
       "\t -2.3299460 & 1.1597437 & dim4\\_ind1\\_h\\\\\n",
       "\t -0.1030767 & 1.5931866 & dim4\\_ind2\\_h\\\\\n",
       "\t -1.9087812 & 1.3458469 & dim4\\_ind3\\_h\\\\\n",
       "\t -2.4378971 & 2.1218278 & dim4\\_ind4\\_h\\\\\n",
       "\\end{tabular}\n"
      ],
      "text/markdown": [
       "\n",
       "A data.table: 12 × 3\n",
       "\n",
       "| Intercept &lt;dbl&gt; | z1 &lt;dbl&gt; | VarName &lt;chr&gt; |\n",
       "|---|---|---|\n",
       "| -2.4634266 | 0.9963838 | dim1_ind1_h |\n",
       "| -2.4579136 | 0.4254302 | dim1_ind2_h |\n",
       "|  0.2646775 | 1.5494915 | dim1_ind3_h |\n",
       "| -3.6229075 | 1.6441192 | dim2_ind1_h |\n",
       "|  1.1220191 | 1.4406508 | dim2_ind2_h |\n",
       "|  0.7943118 | 0.8925539 | dim2_ind3_h |\n",
       "| -3.4240290 | 1.5361891 | dim3_ind1_h |\n",
       "| -2.2309780 | 2.2365091 | dim3_ind2_h |\n",
       "| -2.3299460 | 1.1597437 | dim4_ind1_h |\n",
       "| -0.1030767 | 1.5931866 | dim4_ind2_h |\n",
       "| -1.9087812 | 1.3458469 | dim4_ind3_h |\n",
       "| -2.4378971 | 2.1218278 | dim4_ind4_h |\n",
       "\n"
      ],
      "text/plain": [
       "   Intercept  z1        VarName    \n",
       "1  -2.4634266 0.9963838 dim1_ind1_h\n",
       "2  -2.4579136 0.4254302 dim1_ind2_h\n",
       "3   0.2646775 1.5494915 dim1_ind3_h\n",
       "4  -3.6229075 1.6441192 dim2_ind1_h\n",
       "5   1.1220191 1.4406508 dim2_ind2_h\n",
       "6   0.7943118 0.8925539 dim2_ind3_h\n",
       "7  -3.4240290 1.5361891 dim3_ind1_h\n",
       "8  -2.2309780 2.2365091 dim3_ind2_h\n",
       "9  -2.3299460 1.1597437 dim4_ind1_h\n",
       "10 -0.1030767 1.5931866 dim4_ind2_h\n",
       "11 -1.9087812 1.3458469 dim4_ind3_h\n",
       "12 -2.4378971 2.1218278 dim4_ind4_h"
      ]
     },
     "metadata": {},
     "output_type": "display_data"
    }
   ],
   "source": [
    "irtC = rel_irt$coefficients  %>% data.table\n",
    "irtC = irtC  %>% setnames(\"(Intercept)\", \"Intercept\")\n",
    "irtC[, VarName := vars]\n",
    "irtC"
   ]
  },
  {
   "cell_type": "markdown",
   "metadata": {},
   "source": [
    "En el contexto de IRT z1 es discriminación, el intercepto representa severidad. Una buena regla de dedo según XXXXX viene a ser:\n",
    "* Discriminación menor a 0.9 significa que el indicador representa muy poco de la variable latente, se puede considerar sacar al indicador\n",
    "* Severidad mayor a 3 o menor a -3 significa que el indicador es \"tan severo\" que aporta poco a nuestra comprensión de la variable latente, se puede considerar sacar al indicador"
   ]
  },
  {
   "cell_type": "code",
   "execution_count": 110,
   "metadata": {
    "ExecuteTime": {
     "end_time": "2019-06-20T16:47:10.803509Z",
     "start_time": "2019-06-20T16:47:10.768Z"
    }
   },
   "outputs": [
    {
     "data": {
      "text/html": [
       "<ol class=list-inline>\n",
       "\t<li>'dim2_ind1_h'</li>\n",
       "\t<li>'dim3_ind1_h'</li>\n",
       "</ol>\n"
      ],
      "text/latex": [
       "\\begin{enumerate*}\n",
       "\\item 'dim2\\_ind1\\_h'\n",
       "\\item 'dim3\\_ind1\\_h'\n",
       "\\end{enumerate*}\n"
      ],
      "text/markdown": [
       "1. 'dim2_ind1_h'\n",
       "2. 'dim3_ind1_h'\n",
       "\n",
       "\n"
      ],
      "text/plain": [
       "[1] \"dim2_ind1_h\" \"dim3_ind1_h\""
      ]
     },
     "metadata": {},
     "output_type": "display_data"
    }
   ],
   "source": [
    "#Variables \"malas\" según severidad\n",
    "irtC[abs(Intercept)>3, VarName]"
   ]
  },
  {
   "cell_type": "code",
   "execution_count": 111,
   "metadata": {
    "ExecuteTime": {
     "end_time": "2019-06-20T16:47:11.643380Z",
     "start_time": "2019-06-20T16:47:11.608Z"
    }
   },
   "outputs": [
    {
     "data": {
      "text/html": [
       "<ol class=list-inline>\n",
       "\t<li>'dim1_ind2_h'</li>\n",
       "\t<li>'dim2_ind3_h'</li>\n",
       "</ol>\n"
      ],
      "text/latex": [
       "\\begin{enumerate*}\n",
       "\\item 'dim1\\_ind2\\_h'\n",
       "\\item 'dim2\\_ind3\\_h'\n",
       "\\end{enumerate*}\n"
      ],
      "text/markdown": [
       "1. 'dim1_ind2_h'\n",
       "2. 'dim2_ind3_h'\n",
       "\n",
       "\n"
      ],
      "text/plain": [
       "[1] \"dim1_ind2_h\" \"dim2_ind3_h\""
      ]
     },
     "metadata": {},
     "output_type": "display_data"
    }
   ],
   "source": [
    "#Variables \"malas\" según discriminación\n",
    "irtC[z1<0.9, VarName]"
   ]
  },
  {
   "cell_type": "markdown",
   "metadata": {},
   "source": [
    "### Estimador Omega"
   ]
  },
  {
   "cell_type": "code",
   "execution_count": 124,
   "metadata": {
    "ExecuteTime": {
     "end_time": "2019-06-20T16:50:10.964638Z",
     "start_time": "2019-06-20T16:50:10.726Z"
    }
   },
   "outputs": [],
   "source": [
    "o0<-psych::omega(en18dic[,mget(vars)], plot = F)"
   ]
  },
  {
   "cell_type": "code",
   "execution_count": 125,
   "metadata": {
    "ExecuteTime": {
     "end_time": "2019-06-20T16:50:15.240959Z",
     "start_time": "2019-06-20T16:50:15.183Z"
    }
   },
   "outputs": [
    {
     "data": {
      "text/html": [
       "<dl>\n",
       "\t<dt>$`Omega Total`</dt>\n",
       "\t\t<dd>0.753475580177457</dd>\n",
       "\t<dt>$`Omega Jerárquico`</dt>\n",
       "\t\t<dd>0.42970449733992</dd>\n",
       "</dl>\n"
      ],
      "text/latex": [
       "\\begin{description}\n",
       "\\item[\\$`Omega Total`] 0.753475580177457\n",
       "\\item[\\$`Omega Jerárquico`] 0.42970449733992\n",
       "\\end{description}\n"
      ],
      "text/markdown": [
       "$`Omega Total`\n",
       ":   0.753475580177457\n",
       "$`Omega Jerárquico`\n",
       ":   0.42970449733992\n",
       "\n",
       "\n"
      ],
      "text/plain": [
       "$`Omega Total`\n",
       "[1] 0.7534756\n",
       "\n",
       "$`Omega Jerárquico`\n",
       "[1] 0.4297045\n"
      ]
     },
     "metadata": {},
     "output_type": "display_data"
    }
   ],
   "source": [
    "o0.i = list(\"Omega Total\" = o0$omega.tot, \"Omega Jerárquico\" = o0$omega_h)\n",
    "o0.i"
   ]
  },
  {
   "cell_type": "markdown",
   "metadata": {},
   "source": [
    "Se considera un Omega \"bueno\", cuando este es mayor a 0.9. Se comprueba la necesidad de este valor en las simulaciones propuestas por Nájera (XXXX)."
   ]
  },
  {
   "cell_type": "markdown",
   "metadata": {},
   "source": [
    "### Estructura factorial ideal dados los datos"
   ]
  },
  {
   "cell_type": "code",
   "execution_count": 114,
   "metadata": {
    "ExecuteTime": {
     "end_time": "2019-06-20T16:47:18.964818Z",
     "start_time": "2019-06-20T16:47:18.607Z"
    }
   },
   "outputs": [
    {
     "data": {
      "image/png": "[encoded data removed]",
      "text/plain": [
       "Plot with title \"Omega\""
      ]
     },
     "metadata": {},
     "output_type": "display_data"
    }
   ],
   "source": [
    "o0<-psych::omega(en18dic[,mget(vars)], plot = T)"
   ]
  },
  {
   "cell_type": "markdown",
   "metadata": {},
   "source": [
    "La función omega del paquete `psych` tambien permite conocer cual sería la estructura factorial ideal dado los datos que se proponen. \n",
    "\n",
    "Cuando se encuentra que la estructura ideal presentada difiere a la estructura del índice propuesto por alguna otra metodología se puede pensar en replantear dicho índice."
   ]
  },
  {
   "cell_type": "markdown",
   "metadata": {},
   "source": [
    "### Buscar un mejor índice\n",
    "\n",
    "En base a los anteriores criterios de confiabilidad se propone un nuevo índice.\n",
    "\n",
    "Se quitarán variables con discriminación menor a 0.9, -3>severidad>3 y cambio de alpha al ser retirado muy pequeño."
   ]
  },
  {
   "cell_type": "code",
   "execution_count": 115,
   "metadata": {
    "ExecuteTime": {
     "end_time": "2019-06-20T16:47:23.948094Z",
     "start_time": "2019-06-20T16:47:23.880Z"
    }
   },
   "outputs": [
    {
     "data": {
      "text/html": [
       "<table>\n",
       "<caption>A data.table: 12 × 3</caption>\n",
       "<thead>\n",
       "\t<tr><th scope=col>raw_alpha</th><th scope=col>VarName</th><th scope=col>diff.a</th></tr>\n",
       "\t<tr><th scope=col>&lt;dbl&gt;</th><th scope=col>&lt;chr&gt;</th><th scope=col>&lt;dbl&gt;</th></tr>\n",
       "</thead>\n",
       "<tbody>\n",
       "\t<tr><td>0.7059350</td><td>dim1_ind1_h</td><td>-0.007267708</td></tr>\n",
       "\t<tr><td>0.7205153</td><td>dim1_ind2_h</td><td> 0.007312511</td></tr>\n",
       "\t<tr><td>0.6784367</td><td>dim1_ind3_h</td><td>-0.034766001</td></tr>\n",
       "\t<tr><td>0.7015845</td><td>dim2_ind1_h</td><td>-0.011618274</td></tr>\n",
       "\t<tr><td>0.6851860</td><td>dim2_ind2_h</td><td>-0.028016775</td></tr>\n",
       "\t<tr><td>0.7033710</td><td>dim2_ind3_h</td><td>-0.009831729</td></tr>\n",
       "\t<tr><td>0.7022749</td><td>dim3_ind1_h</td><td>-0.010927888</td></tr>\n",
       "\t<tr><td>0.6795186</td><td>dim3_ind2_h</td><td>-0.033684138</td></tr>\n",
       "\t<tr><td>0.6990778</td><td>dim4_ind1_h</td><td>-0.014124907</td></tr>\n",
       "\t<tr><td>0.6785415</td><td>dim4_ind2_h</td><td>-0.034661221</td></tr>\n",
       "\t<tr><td>0.6935830</td><td>dim4_ind3_h</td><td>-0.019619747</td></tr>\n",
       "\t<tr><td>0.6836468</td><td>dim4_ind4_h</td><td>-0.029555923</td></tr>\n",
       "</tbody>\n",
       "</table>\n"
      ],
      "text/latex": [
       "A data.table: 12 × 3\n",
       "\\begin{tabular}{r|lll}\n",
       " raw\\_alpha & VarName & diff.a\\\\\n",
       " <dbl> & <chr> & <dbl>\\\\\n",
       "\\hline\n",
       "\t 0.7059350 & dim1\\_ind1\\_h & -0.007267708\\\\\n",
       "\t 0.7205153 & dim1\\_ind2\\_h &  0.007312511\\\\\n",
       "\t 0.6784367 & dim1\\_ind3\\_h & -0.034766001\\\\\n",
       "\t 0.7015845 & dim2\\_ind1\\_h & -0.011618274\\\\\n",
       "\t 0.6851860 & dim2\\_ind2\\_h & -0.028016775\\\\\n",
       "\t 0.7033710 & dim2\\_ind3\\_h & -0.009831729\\\\\n",
       "\t 0.7022749 & dim3\\_ind1\\_h & -0.010927888\\\\\n",
       "\t 0.6795186 & dim3\\_ind2\\_h & -0.033684138\\\\\n",
       "\t 0.6990778 & dim4\\_ind1\\_h & -0.014124907\\\\\n",
       "\t 0.6785415 & dim4\\_ind2\\_h & -0.034661221\\\\\n",
       "\t 0.6935830 & dim4\\_ind3\\_h & -0.019619747\\\\\n",
       "\t 0.6836468 & dim4\\_ind4\\_h & -0.029555923\\\\\n",
       "\\end{tabular}\n"
      ],
      "text/markdown": [
       "\n",
       "A data.table: 12 × 3\n",
       "\n",
       "| raw_alpha &lt;dbl&gt; | VarName &lt;chr&gt; | diff.a &lt;dbl&gt; |\n",
       "|---|---|---|\n",
       "| 0.7059350 | dim1_ind1_h | -0.007267708 |\n",
       "| 0.7205153 | dim1_ind2_h |  0.007312511 |\n",
       "| 0.6784367 | dim1_ind3_h | -0.034766001 |\n",
       "| 0.7015845 | dim2_ind1_h | -0.011618274 |\n",
       "| 0.6851860 | dim2_ind2_h | -0.028016775 |\n",
       "| 0.7033710 | dim2_ind3_h | -0.009831729 |\n",
       "| 0.7022749 | dim3_ind1_h | -0.010927888 |\n",
       "| 0.6795186 | dim3_ind2_h | -0.033684138 |\n",
       "| 0.6990778 | dim4_ind1_h | -0.014124907 |\n",
       "| 0.6785415 | dim4_ind2_h | -0.034661221 |\n",
       "| 0.6935830 | dim4_ind3_h | -0.019619747 |\n",
       "| 0.6836468 | dim4_ind4_h | -0.029555923 |\n",
       "\n"
      ],
      "text/plain": [
       "   raw_alpha VarName     diff.a      \n",
       "1  0.7059350 dim1_ind1_h -0.007267708\n",
       "2  0.7205153 dim1_ind2_h  0.007312511\n",
       "3  0.6784367 dim1_ind3_h -0.034766001\n",
       "4  0.7015845 dim2_ind1_h -0.011618274\n",
       "5  0.6851860 dim2_ind2_h -0.028016775\n",
       "6  0.7033710 dim2_ind3_h -0.009831729\n",
       "7  0.7022749 dim3_ind1_h -0.010927888\n",
       "8  0.6795186 dim3_ind2_h -0.033684138\n",
       "9  0.6990778 dim4_ind1_h -0.014124907\n",
       "10 0.6785415 dim4_ind2_h -0.034661221\n",
       "11 0.6935830 dim4_ind3_h -0.019619747\n",
       "12 0.6836468 dim4_ind4_h -0.029555923"
      ]
     },
     "metadata": {},
     "output_type": "display_data"
    }
   ],
   "source": [
    "#Discriminación\n",
    "out_vars = c()\n",
    "out_vars = c(out_vars, irtC[z1<0.9, VarName])\n",
    "#Severidad\n",
    "out_vars = c(out_vars, irtC[abs(Intercept)>3, VarName])\n",
    "#Alpha\n",
    "tmp1 = alpha1$alpha.drop  %>%  data.table\n",
    "tmp1[, VarName := vars]\n",
    "tmp1[, diff.a := raw_alpha - alpha1[[1]][[1]]]\n",
    "tmp1[, .(raw_alpha, VarName, diff.a)]\n",
    "out.a = tmp1[diff.a>=-0.01 & diff.a<0, VarName]\n",
    "out_vars = c(out_vars, out.a) "
   ]
  },
  {
   "cell_type": "code",
   "execution_count": 116,
   "metadata": {
    "ExecuteTime": {
     "end_time": "2019-06-20T16:47:34.424768Z",
     "start_time": "2019-06-20T16:47:34.376Z"
    }
   },
   "outputs": [
    {
     "data": {
      "text/html": [
       "5"
      ],
      "text/latex": [
       "5"
      ],
      "text/markdown": [
       "5"
      ],
      "text/plain": [
       "[1] 5"
      ]
     },
     "metadata": {},
     "output_type": "display_data"
    },
    {
     "data": {
      "text/html": [
       "6"
      ],
      "text/latex": [
       "6"
      ],
      "text/markdown": [
       "6"
      ],
      "text/plain": [
       "[1] 6"
      ]
     },
     "metadata": {},
     "output_type": "display_data"
    },
    {
     "data": {
      "text/html": [
       "<ol class=list-inline>\n",
       "\t<li>'dim1_ind2_h'</li>\n",
       "\t<li>'dim2_ind3_h'</li>\n",
       "\t<li>'dim2_ind1_h'</li>\n",
       "\t<li>'dim3_ind1_h'</li>\n",
       "\t<li>'dim1_ind1_h'</li>\n",
       "</ol>\n"
      ],
      "text/latex": [
       "\\begin{enumerate*}\n",
       "\\item 'dim1\\_ind2\\_h'\n",
       "\\item 'dim2\\_ind3\\_h'\n",
       "\\item 'dim2\\_ind1\\_h'\n",
       "\\item 'dim3\\_ind1\\_h'\n",
       "\\item 'dim1\\_ind1\\_h'\n",
       "\\end{enumerate*}\n"
      ],
      "text/markdown": [
       "1. 'dim1_ind2_h'\n",
       "2. 'dim2_ind3_h'\n",
       "3. 'dim2_ind1_h'\n",
       "4. 'dim3_ind1_h'\n",
       "5. 'dim1_ind1_h'\n",
       "\n",
       "\n"
      ],
      "text/plain": [
       "[1] \"dim1_ind2_h\" \"dim2_ind3_h\" \"dim2_ind1_h\" \"dim3_ind1_h\" \"dim1_ind1_h\""
      ]
     },
     "metadata": {},
     "output_type": "display_data"
    }
   ],
   "source": [
    "#Total variables a reducirse\n",
    "out_vars  %>% unique  %>% length\n",
    "#se repiten por criterios?\n",
    "out_vars  %>% length\n",
    "#Quienes?\n",
    "out_vars = out_vars  %>% unique\n",
    "out_vars"
   ]
  },
  {
   "cell_type": "markdown",
   "metadata": {},
   "source": [
    "\"Mejor\" conjunto de variables"
   ]
  },
  {
   "cell_type": "code",
   "execution_count": 117,
   "metadata": {
    "ExecuteTime": {
     "end_time": "2019-06-20T16:47:39.965741Z",
     "start_time": "2019-06-20T16:47:39.935Z"
    }
   },
   "outputs": [],
   "source": [
    "vars2 = vars[vars %in% out_vars == F]"
   ]
  },
  {
   "cell_type": "code",
   "execution_count": null,
   "metadata": {
    "ExecuteTime": {
     "end_time": "2019-06-20T16:43:46.164777Z",
     "start_time": "2019-06-20T16:43:46.131Z"
    }
   },
   "outputs": [],
   "source": []
  },
  {
   "cell_type": "code",
   "execution_count": 118,
   "metadata": {
    "ExecuteTime": {
     "end_time": "2019-06-20T16:47:41.397823Z",
     "start_time": "2019-06-20T16:47:41.159Z"
    }
   },
   "outputs": [
    {
     "data": {
      "image/png": "[encoded data removed]",
      "text/plain": [
       "Plot with title \"Omega\""
      ]
     },
     "metadata": {},
     "output_type": "display_data"
    }
   ],
   "source": [
    "o1<-psych::omega(en18dic[,mget(vars2)], plot = T)"
   ]
  },
  {
   "cell_type": "code",
   "execution_count": 126,
   "metadata": {
    "ExecuteTime": {
     "end_time": "2019-06-20T16:50:28.173927Z",
     "start_time": "2019-06-20T16:50:28.126Z"
    }
   },
   "outputs": [
    {
     "data": {
      "text/html": [
       "<dl>\n",
       "\t<dt>$`Omega Total`</dt>\n",
       "\t\t<dd>0.753475580177457</dd>\n",
       "\t<dt>$`Omega Jerárquico`</dt>\n",
       "\t\t<dd>0.42970449733992</dd>\n",
       "</dl>\n"
      ],
      "text/latex": [
       "\\begin{description}\n",
       "\\item[\\$`Omega Total`] 0.753475580177457\n",
       "\\item[\\$`Omega Jerárquico`] 0.42970449733992\n",
       "\\end{description}\n"
      ],
      "text/markdown": [
       "$`Omega Total`\n",
       ":   0.753475580177457\n",
       "$`Omega Jerárquico`\n",
       ":   0.42970449733992\n",
       "\n",
       "\n"
      ],
      "text/plain": [
       "$`Omega Total`\n",
       "[1] 0.7534756\n",
       "\n",
       "$`Omega Jerárquico`\n",
       "[1] 0.4297045\n"
      ]
     },
     "metadata": {},
     "output_type": "display_data"
    },
    {
     "data": {
      "text/html": [
       "<dl>\n",
       "\t<dt>$`Omega Total`</dt>\n",
       "\t\t<dd>0.74292259407707</dd>\n",
       "\t<dt>$`Omega Jerárquico`</dt>\n",
       "\t\t<dd>0.556817241895127</dd>\n",
       "</dl>\n"
      ],
      "text/latex": [
       "\\begin{description}\n",
       "\\item[\\$`Omega Total`] 0.74292259407707\n",
       "\\item[\\$`Omega Jerárquico`] 0.556817241895127\n",
       "\\end{description}\n"
      ],
      "text/markdown": [
       "$`Omega Total`\n",
       ":   0.74292259407707\n",
       "$`Omega Jerárquico`\n",
       ":   0.556817241895127\n",
       "\n",
       "\n"
      ],
      "text/plain": [
       "$`Omega Total`\n",
       "[1] 0.7429226\n",
       "\n",
       "$`Omega Jerárquico`\n",
       "[1] 0.5568172\n"
      ]
     },
     "metadata": {},
     "output_type": "display_data"
    }
   ],
   "source": [
    "o1.i = list(\"Omega Total\" = o1$omega.tot, \"Omega Jerárquico\" = o1$omega_h)\n",
    "#anterior\n",
    "o0.i\n",
    "#Nuevo\n",
    "o1.i"
   ]
  },
  {
   "cell_type": "code",
   "execution_count": 127,
   "metadata": {
    "ExecuteTime": {
     "end_time": "2019-06-20T16:50:56.497113Z",
     "start_time": "2019-06-20T16:50:56.040Z"
    }
   },
   "outputs": [
    {
     "data": {
      "text/html": [
       "<table>\n",
       "<caption>A data.frame: 1 × 9</caption>\n",
       "<thead>\n",
       "\t<tr><th scope=col>raw_alpha</th><th scope=col>std.alpha</th><th scope=col>G6(smc)</th><th scope=col>average_r</th><th scope=col>S/N</th><th scope=col>ase</th><th scope=col>mean</th><th scope=col>sd</th><th scope=col>median_r</th></tr>\n",
       "\t<tr><th scope=col>&lt;dbl&gt;</th><th scope=col>&lt;dbl&gt;</th><th scope=col>&lt;dbl&gt;</th><th scope=col>&lt;dbl&gt;</th><th scope=col>&lt;dbl&gt;</th><th scope=col>&lt;dbl&gt;</th><th scope=col>&lt;dbl&gt;</th><th scope=col>&lt;dbl&gt;</th><th scope=col>&lt;dbl&gt;</th></tr>\n",
       "</thead>\n",
       "<tbody>\n",
       "\t<tr><td>0.7132027</td><td>0.7070646</td><td>0.715708</td><td>0.16746</td><td>2.413722</td><td>0.001668119</td><td>0.2869615</td><td>0.1912352</td><td>0.1571697</td></tr>\n",
       "</tbody>\n",
       "</table>\n"
      ],
      "text/latex": [
       "A data.frame: 1 × 9\n",
       "\\begin{tabular}{r|lllllllll}\n",
       " raw\\_alpha & std.alpha & G6(smc) & average\\_r & S/N & ase & mean & sd & median\\_r\\\\\n",
       " <dbl> & <dbl> & <dbl> & <dbl> & <dbl> & <dbl> & <dbl> & <dbl> & <dbl>\\\\\n",
       "\\hline\n",
       "\t 0.7132027 & 0.7070646 & 0.715708 & 0.16746 & 2.413722 & 0.001668119 & 0.2869615 & 0.1912352 & 0.1571697\\\\\n",
       "\\end{tabular}\n"
      ],
      "text/markdown": [
       "\n",
       "A data.frame: 1 × 9\n",
       "\n",
       "| raw_alpha &lt;dbl&gt; | std.alpha &lt;dbl&gt; | G6(smc) &lt;dbl&gt; | average_r &lt;dbl&gt; | S/N &lt;dbl&gt; | ase &lt;dbl&gt; | mean &lt;dbl&gt; | sd &lt;dbl&gt; | median_r &lt;dbl&gt; |\n",
       "|---|---|---|---|---|---|---|---|---|\n",
       "| 0.7132027 | 0.7070646 | 0.715708 | 0.16746 | 2.413722 | 0.001668119 | 0.2869615 | 0.1912352 | 0.1571697 |\n",
       "\n"
      ],
      "text/plain": [
       " raw_alpha std.alpha G6(smc)  average_r S/N      ase         mean     \n",
       " 0.7132027 0.7070646 0.715708 0.16746   2.413722 0.001668119 0.2869615\n",
       " sd        median_r \n",
       " 0.1912352 0.1571697"
      ]
     },
     "metadata": {},
     "output_type": "display_data"
    },
    {
     "data": {
      "text/html": [
       "<table>\n",
       "<caption>A data.frame: 1 × 9</caption>\n",
       "<thead>\n",
       "\t<tr><th scope=col>raw_alpha</th><th scope=col>std.alpha</th><th scope=col>G6(smc)</th><th scope=col>average_r</th><th scope=col>S/N</th><th scope=col>ase</th><th scope=col>mean</th><th scope=col>sd</th><th scope=col>median_r</th></tr>\n",
       "\t<tr><th scope=col>&lt;dbl&gt;</th><th scope=col>&lt;dbl&gt;</th><th scope=col>&lt;dbl&gt;</th><th scope=col>&lt;dbl&gt;</th><th scope=col>&lt;dbl&gt;</th><th scope=col>&lt;dbl&gt;</th><th scope=col>&lt;dbl&gt;</th><th scope=col>&lt;dbl&gt;</th><th scope=col>&lt;dbl&gt;</th></tr>\n",
       "</thead>\n",
       "<tbody>\n",
       "\t<tr><td>0.6897498</td><td>0.6903572</td><td>0.6764703</td><td>0.2415646</td><td>2.229527</td><td>0.001912199</td><td>0.3498833</td><td>0.2546066</td><td>0.2339443</td></tr>\n",
       "</tbody>\n",
       "</table>\n"
      ],
      "text/latex": [
       "A data.frame: 1 × 9\n",
       "\\begin{tabular}{r|lllllllll}\n",
       " raw\\_alpha & std.alpha & G6(smc) & average\\_r & S/N & ase & mean & sd & median\\_r\\\\\n",
       " <dbl> & <dbl> & <dbl> & <dbl> & <dbl> & <dbl> & <dbl> & <dbl> & <dbl>\\\\\n",
       "\\hline\n",
       "\t 0.6897498 & 0.6903572 & 0.6764703 & 0.2415646 & 2.229527 & 0.001912199 & 0.3498833 & 0.2546066 & 0.2339443\\\\\n",
       "\\end{tabular}\n"
      ],
      "text/markdown": [
       "\n",
       "A data.frame: 1 × 9\n",
       "\n",
       "| raw_alpha &lt;dbl&gt; | std.alpha &lt;dbl&gt; | G6(smc) &lt;dbl&gt; | average_r &lt;dbl&gt; | S/N &lt;dbl&gt; | ase &lt;dbl&gt; | mean &lt;dbl&gt; | sd &lt;dbl&gt; | median_r &lt;dbl&gt; |\n",
       "|---|---|---|---|---|---|---|---|---|\n",
       "| 0.6897498 | 0.6903572 | 0.6764703 | 0.2415646 | 2.229527 | 0.001912199 | 0.3498833 | 0.2546066 | 0.2339443 |\n",
       "\n"
      ],
      "text/plain": [
       " raw_alpha std.alpha G6(smc)   average_r S/N      ase         mean     \n",
       " 0.6897498 0.6903572 0.6764703 0.2415646 2.229527 0.001912199 0.3498833\n",
       " sd        median_r \n",
       " 0.2546066 0.2339443"
      ]
     },
     "metadata": {},
     "output_type": "display_data"
    }
   ],
   "source": [
    "alpha2<-psych::alpha(en18dic[,mget(vars2)])\n",
    "#Anterior\n",
    "alpha1$total\n",
    "#Nuevo\n",
    "alpha2$total"
   ]
  },
  {
   "cell_type": "code",
   "execution_count": null,
   "metadata": {},
   "outputs": [],
   "source": [
    "#En general se encuentra muy poca mejora"
   ]
  },
  {
   "cell_type": "markdown",
   "metadata": {},
   "source": [
    "## Análisis confirmatorio"
   ]
  },
  {
   "cell_type": "markdown",
   "metadata": {},
   "source": [
    "Ya que se encuentra poca mejoría con el nuevo índice propuesto, se hará análisis confirmatorio de los dos modelos propuestos por Omega"
   ]
  },
  {
   "cell_type": "markdown",
   "metadata": {},
   "source": [
    "### Con todas las variables"
   ]
  },
  {
   "cell_type": "code",
   "execution_count": 190,
   "metadata": {
    "ExecuteTime": {
     "end_time": "2019-06-20T17:19:38.658565Z",
     "start_time": "2019-06-20T17:19:38.627Z"
    }
   },
   "outputs": [],
   "source": [
    "#Función para extraer ecuación de omega óptimo\n",
    "opt.o.extract.eq = function(omega){\n",
    "    o0.s = omega$schmid$sl %>% data.table() \n",
    "\n",
    "    o0.s[,VarName := omega$schmid$sl  %>% rownames]\n",
    "\n",
    "    n0 = names(o0.s) \n",
    "    n0 = n0[names(o0.s)  %>% grepl(pattern = \"F\")]\n",
    "    n1 = substr(n0,1,(nchar(n0)-1))\n",
    "    o0.s = setnames(o0.s, old = n0, new=n1)\n",
    "\n",
    "    Fs = list()\n",
    "    h = c()\n",
    "    for (x in n1){\n",
    "        Fs[[x]] = o0.s[abs(get(x))>0.2, VarName]\n",
    "        Fs[[x]] = Fs[[x]] %>% paste(collapse = \" + \")\n",
    "        h = c(h, Fs[[x]])\n",
    "        Fs[[x]] = paste0(x,\" =~  + \" , Fs[[x]])\n",
    "    }\n",
    "    h = h %>% paste(collapse = \" + \")\n",
    "    h = paste0(\"h\",\" =~  + \" , h)\n",
    "    Fs = Fs  %>% unlist  %>% paste(collapse = \" \\n \")\n",
    "    opt.o.eq = paste0(h, \" \\n \", Fs) \n",
    "    return(opt.o.eq)\n",
    "}"
   ]
  },
  {
   "cell_type": "code",
   "execution_count": 192,
   "metadata": {
    "ExecuteTime": {
     "end_time": "2019-06-20T17:20:48.730942Z",
     "start_time": "2019-06-20T17:20:48.690Z"
    }
   },
   "outputs": [
    {
     "data": {
      "text/html": [
       "<span style=white-space:pre-wrap>'h =~  + dim3_ind2_h + dim4_ind2_h + dim4_ind3_h + dim4_ind4_h + dim1_ind3_h + dim2_ind2_h + dim2_ind3_h + dim1_ind1_h + dim2_ind1_h + dim4_ind1_h \\n F1 =~  + dim3_ind2_h + dim4_ind2_h + dim4_ind3_h + dim4_ind4_h \\n F2 =~  + dim1_ind3_h + dim2_ind2_h + dim2_ind3_h \\n F3 =~  + dim1_ind1_h + dim2_ind1_h + dim4_ind1_h\\n                h  ~~ 0*F1 \\n                h  ~~ 0*F2 \\n                h  ~~ 0*F3 \\n                F1 ~~ 0*F2 \\n                F2 ~~ 0*F3 \\n                F1 ~~ 0*F3'</span>"
      ],
      "text/latex": [
       "'h =\\textasciitilde{}  + dim3\\_ind2\\_h + dim4\\_ind2\\_h + dim4\\_ind3\\_h + dim4\\_ind4\\_h + dim1\\_ind3\\_h + dim2\\_ind2\\_h + dim2\\_ind3\\_h + dim1\\_ind1\\_h + dim2\\_ind1\\_h + dim4\\_ind1\\_h \\textbackslash{}n F1 =\\textasciitilde{}  + dim3\\_ind2\\_h + dim4\\_ind2\\_h + dim4\\_ind3\\_h + dim4\\_ind4\\_h \\textbackslash{}n F2 =\\textasciitilde{}  + dim1\\_ind3\\_h + dim2\\_ind2\\_h + dim2\\_ind3\\_h \\textbackslash{}n F3 =\\textasciitilde{}  + dim1\\_ind1\\_h + dim2\\_ind1\\_h + dim4\\_ind1\\_h\\textbackslash{}n                h  \\textasciitilde{}\\textasciitilde{} 0*F1 \\textbackslash{}n                h  \\textasciitilde{}\\textasciitilde{} 0*F2 \\textbackslash{}n                h  \\textasciitilde{}\\textasciitilde{} 0*F3 \\textbackslash{}n                F1 \\textasciitilde{}\\textasciitilde{} 0*F2 \\textbackslash{}n                F2 \\textasciitilde{}\\textasciitilde{} 0*F3 \\textbackslash{}n                F1 \\textasciitilde{}\\textasciitilde{} 0*F3'"
      ],
      "text/markdown": [
       "<span style=white-space:pre-wrap>'h =~  + dim3_ind2_h + dim4_ind2_h + dim4_ind3_h + dim4_ind4_h + dim1_ind3_h + dim2_ind2_h + dim2_ind3_h + dim1_ind1_h + dim2_ind1_h + dim4_ind1_h \\n F1 =~  + dim3_ind2_h + dim4_ind2_h + dim4_ind3_h + dim4_ind4_h \\n F2 =~  + dim1_ind3_h + dim2_ind2_h + dim2_ind3_h \\n F3 =~  + dim1_ind1_h + dim2_ind1_h + dim4_ind1_h\\n                h  ~~ 0*F1 \\n                h  ~~ 0*F2 \\n                h  ~~ 0*F3 \\n                F1 ~~ 0*F2 \\n                F2 ~~ 0*F3 \\n                F1 ~~ 0*F3'</span>"
      ],
      "text/plain": [
       "[1] \"h =~  + dim3_ind2_h + dim4_ind2_h + dim4_ind3_h + dim4_ind4_h + dim1_ind3_h + dim2_ind2_h + dim2_ind3_h + dim1_ind1_h + dim2_ind1_h + dim4_ind1_h \\n F1 =~  + dim3_ind2_h + dim4_ind2_h + dim4_ind3_h + dim4_ind4_h \\n F2 =~  + dim1_ind3_h + dim2_ind2_h + dim2_ind3_h \\n F3 =~  + dim1_ind1_h + dim2_ind1_h + dim4_ind1_h\\n                h  ~~ 0*F1 \\n                h  ~~ 0*F2 \\n                h  ~~ 0*F3 \\n                F1 ~~ 0*F2 \\n                F2 ~~ 0*F3 \\n                F1 ~~ 0*F3\""
      ]
     },
     "metadata": {},
     "output_type": "display_data"
    }
   ],
   "source": [
    "#Añado paths entre dimensiones\n",
    "opt.o.eq = paste0(opt.o.extract.eq(o0), \"\n",
    "                h  ~~ 0*F1 \n",
    "                h  ~~ 0*F2 \n",
    "                h  ~~ 0*F3 \n",
    "                F1 ~~ 0*F2 \n",
    "                F2 ~~ 0*F3 \n",
    "                F1 ~~ 0*F3\")\n",
    "opt.o.eq"
   ]
  },
  {
   "cell_type": "code",
   "execution_count": 193,
   "metadata": {
    "ExecuteTime": {
     "end_time": "2019-06-20T17:23:55.513640Z",
     "start_time": "2019-06-20T17:23:47.544Z"
    }
   },
   "outputs": [
    {
     "name": "stderr",
     "output_type": "stream",
     "text": [
      "Warning message in lavaan::lavaan(model = opt.o.eq, data = en18dic, ordered = vars, :\n",
      "\"lavaan WARNING: the optimizer warns that a solution has NOT been found!\""
     ]
    }
   ],
   "source": [
    "fit <- lavaan::sem(opt.o.eq, data = en18dic,\n",
    "           ordered=vars)"
   ]
  },
  {
   "cell_type": "code",
   "execution_count": 201,
   "metadata": {
    "ExecuteTime": {
     "end_time": "2019-06-20T17:29:04.683654Z",
     "start_time": "2019-06-20T17:29:04.613Z"
    }
   },
   "outputs": [
    {
     "data": {
      "text/html": [
       "<table>\n",
       "<caption>A data.frame: 7 × 4</caption>\n",
       "<thead>\n",
       "\t<tr><th scope=col>V1</th><th scope=col>V2</th><th scope=col>V3</th><th scope=col>V4</th></tr>\n",
       "\t<tr><th scope=col>&lt;dbl&gt;</th><th scope=col>&lt;dbl&gt;</th><th scope=col>&lt;dbl&gt;</th><th scope=col>&lt;dbl&gt;</th></tr>\n",
       "</thead>\n",
       "<tbody>\n",
       "\t<tr><td>1.0000000</td><td>1.0000000</td><td>0.0000000</td><td>0.0000000</td></tr>\n",
       "\t<tr><td>0.9393270</td><td>0.7351558</td><td>0.0000000</td><td>0.0000000</td></tr>\n",
       "\t<tr><td>0.8330115</td><td>0.0000000</td><td>1.0000000</td><td>0.0000000</td></tr>\n",
       "\t<tr><td>0.6608722</td><td>0.0000000</td><td>0.5370961</td><td>0.0000000</td></tr>\n",
       "\t<tr><td>0.6397349</td><td>0.0000000</td><td>0.0000000</td><td>1.0000000</td></tr>\n",
       "\t<tr><td>1.0031202</td><td>0.0000000</td><td>0.0000000</td><td>0.1890674</td></tr>\n",
       "\t<tr><td>0.8561810</td><td>0.0000000</td><td>0.0000000</td><td>0.1651309</td></tr>\n",
       "</tbody>\n",
       "</table>\n"
      ],
      "text/latex": [
       "A data.frame: 7 × 4\n",
       "\\begin{tabular}{r|llll}\n",
       " V1 & V2 & V3 & V4\\\\\n",
       " <dbl> & <dbl> & <dbl> & <dbl>\\\\\n",
       "\\hline\n",
       "\t 1.0000000 & 1.0000000 & 0.0000000 & 0.0000000\\\\\n",
       "\t 0.9393270 & 0.7351558 & 0.0000000 & 0.0000000\\\\\n",
       "\t 0.8330115 & 0.0000000 & 1.0000000 & 0.0000000\\\\\n",
       "\t 0.6608722 & 0.0000000 & 0.5370961 & 0.0000000\\\\\n",
       "\t 0.6397349 & 0.0000000 & 0.0000000 & 1.0000000\\\\\n",
       "\t 1.0031202 & 0.0000000 & 0.0000000 & 0.1890674\\\\\n",
       "\t 0.8561810 & 0.0000000 & 0.0000000 & 0.1651309\\\\\n",
       "\\end{tabular}\n"
      ],
      "text/markdown": [
       "\n",
       "A data.frame: 7 × 4\n",
       "\n",
       "| V1 &lt;dbl&gt; | V2 &lt;dbl&gt; | V3 &lt;dbl&gt; | V4 &lt;dbl&gt; |\n",
       "|---|---|---|---|\n",
       "| 1.0000000 | 1.0000000 | 0.0000000 | 0.0000000 |\n",
       "| 0.9393270 | 0.7351558 | 0.0000000 | 0.0000000 |\n",
       "| 0.8330115 | 0.0000000 | 1.0000000 | 0.0000000 |\n",
       "| 0.6608722 | 0.0000000 | 0.5370961 | 0.0000000 |\n",
       "| 0.6397349 | 0.0000000 | 0.0000000 | 1.0000000 |\n",
       "| 1.0031202 | 0.0000000 | 0.0000000 | 0.1890674 |\n",
       "| 0.8561810 | 0.0000000 | 0.0000000 | 0.1651309 |\n",
       "\n"
      ],
      "text/plain": [
       "  V1        V2        V3        V4       \n",
       "1 1.0000000 1.0000000 0.0000000 0.0000000\n",
       "2 0.9393270 0.7351558 0.0000000 0.0000000\n",
       "3 0.8330115 0.0000000 1.0000000 0.0000000\n",
       "4 0.6608722 0.0000000 0.5370961 0.0000000\n",
       "5 0.6397349 0.0000000 0.0000000 1.0000000\n",
       "6 1.0031202 0.0000000 0.0000000 0.1890674\n",
       "7 0.8561810 0.0000000 0.0000000 0.1651309"
      ]
     },
     "metadata": {},
     "output_type": "display_data"
    },
    {
     "data": {
      "text/html": [
       "2.6010198092323"
      ],
      "text/latex": [
       "2.6010198092323"
      ],
      "text/markdown": [
       "2.6010198092323"
      ],
      "text/plain": [
       "[1] 2.60102"
      ]
     },
     "metadata": {},
     "output_type": "display_data"
    },
    {
     "data": {
      "text/html": [
       "<dl class=dl-horizontal>\n",
       "\t<dt>omega_h</dt>\n",
       "\t\t<dd>0.782037006188835</dd>\n",
       "\t<dt>omega_t</dt>\n",
       "\t\t<dd>0.942199371050265</dd>\n",
       "</dl>\n"
      ],
      "text/latex": [
       "\\begin{description*}\n",
       "\\item[omega\\textbackslash{}\\_h] 0.782037006188835\n",
       "\\item[omega\\textbackslash{}\\_t] 0.942199371050265\n",
       "\\end{description*}\n"
      ],
      "text/markdown": [
       "omega_h\n",
       ":   0.782037006188835omega_t\n",
       ":   0.942199371050265\n",
       "\n"
      ],
      "text/plain": [
       "  omega_h   omega_t \n",
       "0.7820370 0.9421994 "
      ]
     },
     "metadata": {},
     "output_type": "display_data"
    }
   ],
   "source": [
    "lambdas<-as.data.frame(fit@Model@GLIST$lambda)\n",
    "error<-colSums(fit@Model@GLIST$theta)\n",
    "Slambda_2<-sum(lambdas[1])^2 + sum(lambdas[2])^2 + \n",
    "           sum(lambdas[3])^2 + sum(lambdas[4])^2\n",
    "error <- sum(error)\n",
    "\n",
    "omega_t <- Slambda_2 / (Slambda_2+error)\n",
    "omega_h <- sum(lambdas[1])^2 / (Slambda_2+error)\n",
    "omegamanual<-c(omega_h=omega_h,omega_t=omega_t)\n",
    "lambdas\n",
    "error\n",
    "omegamanual"
   ]
  },
  {
   "cell_type": "markdown",
   "metadata": {},
   "source": [
    "El modelo propuesto con los datos no sirve. Se buscará algún otro subconjunto"
   ]
  },
  {
   "cell_type": "markdown",
   "metadata": {},
   "source": [
    "### Subconjunto 1"
   ]
  },
  {
   "cell_type": "code",
   "execution_count": 199,
   "metadata": {
    "ExecuteTime": {
     "end_time": "2019-06-20T17:28:20.665025Z",
     "start_time": "2019-06-20T17:28:20.621Z"
    }
   },
   "outputs": [
    {
     "data": {
      "text/html": [
       "<span style=white-space:pre-wrap>'h =~  + dim3_ind2_h + dim4_ind4_h + dim1_ind3_h + dim2_ind2_h + dim4_ind1_h + dim4_ind2_h + dim4_ind3_h \\n F1 =~  + dim3_ind2_h + dim4_ind4_h \\n F2 =~  + dim1_ind3_h + dim2_ind2_h \\n F3 =~  + dim4_ind1_h + dim4_ind2_h + dim4_ind3_h\\n                h  ~~ 0*F1 \\n                h  ~~ 0*F2 \\n                h  ~~ 0*F3 \\n                F1 ~~ 0*F2 \\n                F2 ~~ 0*F3 \\n                F1 ~~ 0*F3'</span>"
      ],
      "text/latex": [
       "'h =\\textasciitilde{}  + dim3\\_ind2\\_h + dim4\\_ind4\\_h + dim1\\_ind3\\_h + dim2\\_ind2\\_h + dim4\\_ind1\\_h + dim4\\_ind2\\_h + dim4\\_ind3\\_h \\textbackslash{}n F1 =\\textasciitilde{}  + dim3\\_ind2\\_h + dim4\\_ind4\\_h \\textbackslash{}n F2 =\\textasciitilde{}  + dim1\\_ind3\\_h + dim2\\_ind2\\_h \\textbackslash{}n F3 =\\textasciitilde{}  + dim4\\_ind1\\_h + dim4\\_ind2\\_h + dim4\\_ind3\\_h\\textbackslash{}n                h  \\textasciitilde{}\\textasciitilde{} 0*F1 \\textbackslash{}n                h  \\textasciitilde{}\\textasciitilde{} 0*F2 \\textbackslash{}n                h  \\textasciitilde{}\\textasciitilde{} 0*F3 \\textbackslash{}n                F1 \\textasciitilde{}\\textasciitilde{} 0*F2 \\textbackslash{}n                F2 \\textasciitilde{}\\textasciitilde{} 0*F3 \\textbackslash{}n                F1 \\textasciitilde{}\\textasciitilde{} 0*F3'"
      ],
      "text/markdown": [
       "<span style=white-space:pre-wrap>'h =~  + dim3_ind2_h + dim4_ind4_h + dim1_ind3_h + dim2_ind2_h + dim4_ind1_h + dim4_ind2_h + dim4_ind3_h \\n F1 =~  + dim3_ind2_h + dim4_ind4_h \\n F2 =~  + dim1_ind3_h + dim2_ind2_h \\n F3 =~  + dim4_ind1_h + dim4_ind2_h + dim4_ind3_h\\n                h  ~~ 0*F1 \\n                h  ~~ 0*F2 \\n                h  ~~ 0*F3 \\n                F1 ~~ 0*F2 \\n                F2 ~~ 0*F3 \\n                F1 ~~ 0*F3'</span>"
      ],
      "text/plain": [
       "[1] \"h =~  + dim3_ind2_h + dim4_ind4_h + dim1_ind3_h + dim2_ind2_h + dim4_ind1_h + dim4_ind2_h + dim4_ind3_h \\n F1 =~  + dim3_ind2_h + dim4_ind4_h \\n F2 =~  + dim1_ind3_h + dim2_ind2_h \\n F3 =~  + dim4_ind1_h + dim4_ind2_h + dim4_ind3_h\\n                h  ~~ 0*F1 \\n                h  ~~ 0*F2 \\n                h  ~~ 0*F3 \\n                F1 ~~ 0*F2 \\n                F2 ~~ 0*F3 \\n                F1 ~~ 0*F3\""
      ]
     },
     "metadata": {},
     "output_type": "display_data"
    }
   ],
   "source": [
    "#Añado paths entre dimensiones\n",
    "opt.o.eq = paste0(opt.o.extract.eq(o1), \"\n",
    "                h  ~~ 0*F1 \n",
    "                h  ~~ 0*F2 \n",
    "                h  ~~ 0*F3 \n",
    "                F1 ~~ 0*F2 \n",
    "                F2 ~~ 0*F3 \n",
    "                F1 ~~ 0*F3\")\n",
    "opt.o.eq"
   ]
  },
  {
   "cell_type": "code",
   "execution_count": 200,
   "metadata": {
    "ExecuteTime": {
     "end_time": "2019-06-20T17:28:46.975857Z",
     "start_time": "2019-06-20T17:28:43.479Z"
    }
   },
   "outputs": [
    {
     "name": "stderr",
     "output_type": "stream",
     "text": [
      "Warning message in lav_model_vcov(lavmodel = lavmodel, lavsamplestats = lavsamplestats, :\n",
      "\"lavaan WARNING:\n",
      "    Could not compute standard errors! The information matrix could\n",
      "    not be inverted. This may be a symptom that the model is not\n",
      "    identified.\"Warning message in lav_test_satorra_bentler(lavobject = NULL, lavsamplestats = lavsamplestats, :\n",
      "\"lavaan WARNING: could not invert information matrix\n",
      "\""
     ]
    }
   ],
   "source": [
    "fit <- lavaan::sem(opt.o.eq, data = en18dic,\n",
    "           ordered=vars2)"
   ]
  },
  {
   "cell_type": "code",
   "execution_count": 202,
   "metadata": {
    "ExecuteTime": {
     "end_time": "2019-06-20T17:29:11.294278Z",
     "start_time": "2019-06-20T17:29:11.184Z"
    }
   },
   "outputs": [
    {
     "data": {
      "text/html": [
       "<table>\n",
       "<caption>A data.frame: 7 × 4</caption>\n",
       "<thead>\n",
       "\t<tr><th scope=col>V1</th><th scope=col>V2</th><th scope=col>V3</th><th scope=col>V4</th></tr>\n",
       "\t<tr><th scope=col>&lt;dbl&gt;</th><th scope=col>&lt;dbl&gt;</th><th scope=col>&lt;dbl&gt;</th><th scope=col>&lt;dbl&gt;</th></tr>\n",
       "</thead>\n",
       "<tbody>\n",
       "\t<tr><td>1.0000000</td><td>1.0000000</td><td>0.0000000</td><td>0.0000000</td></tr>\n",
       "\t<tr><td>0.9393270</td><td>0.7351558</td><td>0.0000000</td><td>0.0000000</td></tr>\n",
       "\t<tr><td>0.8330115</td><td>0.0000000</td><td>1.0000000</td><td>0.0000000</td></tr>\n",
       "\t<tr><td>0.6608722</td><td>0.0000000</td><td>0.5370961</td><td>0.0000000</td></tr>\n",
       "\t<tr><td>0.6397349</td><td>0.0000000</td><td>0.0000000</td><td>1.0000000</td></tr>\n",
       "\t<tr><td>1.0031202</td><td>0.0000000</td><td>0.0000000</td><td>0.1890674</td></tr>\n",
       "\t<tr><td>0.8561810</td><td>0.0000000</td><td>0.0000000</td><td>0.1651309</td></tr>\n",
       "</tbody>\n",
       "</table>\n"
      ],
      "text/latex": [
       "A data.frame: 7 × 4\n",
       "\\begin{tabular}{r|llll}\n",
       " V1 & V2 & V3 & V4\\\\\n",
       " <dbl> & <dbl> & <dbl> & <dbl>\\\\\n",
       "\\hline\n",
       "\t 1.0000000 & 1.0000000 & 0.0000000 & 0.0000000\\\\\n",
       "\t 0.9393270 & 0.7351558 & 0.0000000 & 0.0000000\\\\\n",
       "\t 0.8330115 & 0.0000000 & 1.0000000 & 0.0000000\\\\\n",
       "\t 0.6608722 & 0.0000000 & 0.5370961 & 0.0000000\\\\\n",
       "\t 0.6397349 & 0.0000000 & 0.0000000 & 1.0000000\\\\\n",
       "\t 1.0031202 & 0.0000000 & 0.0000000 & 0.1890674\\\\\n",
       "\t 0.8561810 & 0.0000000 & 0.0000000 & 0.1651309\\\\\n",
       "\\end{tabular}\n"
      ],
      "text/markdown": [
       "\n",
       "A data.frame: 7 × 4\n",
       "\n",
       "| V1 &lt;dbl&gt; | V2 &lt;dbl&gt; | V3 &lt;dbl&gt; | V4 &lt;dbl&gt; |\n",
       "|---|---|---|---|\n",
       "| 1.0000000 | 1.0000000 | 0.0000000 | 0.0000000 |\n",
       "| 0.9393270 | 0.7351558 | 0.0000000 | 0.0000000 |\n",
       "| 0.8330115 | 0.0000000 | 1.0000000 | 0.0000000 |\n",
       "| 0.6608722 | 0.0000000 | 0.5370961 | 0.0000000 |\n",
       "| 0.6397349 | 0.0000000 | 0.0000000 | 1.0000000 |\n",
       "| 1.0031202 | 0.0000000 | 0.0000000 | 0.1890674 |\n",
       "| 0.8561810 | 0.0000000 | 0.0000000 | 0.1651309 |\n",
       "\n"
      ],
      "text/plain": [
       "  V1        V2        V3        V4       \n",
       "1 1.0000000 1.0000000 0.0000000 0.0000000\n",
       "2 0.9393270 0.7351558 0.0000000 0.0000000\n",
       "3 0.8330115 0.0000000 1.0000000 0.0000000\n",
       "4 0.6608722 0.0000000 0.5370961 0.0000000\n",
       "5 0.6397349 0.0000000 0.0000000 1.0000000\n",
       "6 1.0031202 0.0000000 0.0000000 0.1890674\n",
       "7 0.8561810 0.0000000 0.0000000 0.1651309"
      ]
     },
     "metadata": {},
     "output_type": "display_data"
    },
    {
     "data": {
      "text/html": [
       "2.6010198092323"
      ],
      "text/latex": [
       "2.6010198092323"
      ],
      "text/markdown": [
       "2.6010198092323"
      ],
      "text/plain": [
       "[1] 2.60102"
      ]
     },
     "metadata": {},
     "output_type": "display_data"
    },
    {
     "data": {
      "text/html": [
       "<dl class=dl-horizontal>\n",
       "\t<dt>omega_h</dt>\n",
       "\t\t<dd>0.782037006188835</dd>\n",
       "\t<dt>omega_t</dt>\n",
       "\t\t<dd>0.942199371050265</dd>\n",
       "</dl>\n"
      ],
      "text/latex": [
       "\\begin{description*}\n",
       "\\item[omega\\textbackslash{}\\_h] 0.782037006188835\n",
       "\\item[omega\\textbackslash{}\\_t] 0.942199371050265\n",
       "\\end{description*}\n"
      ],
      "text/markdown": [
       "omega_h\n",
       ":   0.782037006188835omega_t\n",
       ":   0.942199371050265\n",
       "\n"
      ],
      "text/plain": [
       "  omega_h   omega_t \n",
       "0.7820370 0.9421994 "
      ]
     },
     "metadata": {},
     "output_type": "display_data"
    }
   ],
   "source": [
    "lambdas<-as.data.frame(fit@Model@GLIST$lambda)\n",
    "error<-colSums(fit@Model@GLIST$theta)\n",
    "Slambda_2<-sum(lambdas[1])^2 + sum(lambdas[2])^2 + \n",
    "           sum(lambdas[3])^2 + sum(lambdas[4])^2\n",
    "error <- sum(error)\n",
    "\n",
    "omega_t <- Slambda_2 / (Slambda_2+error)\n",
    "omega_h <- sum(lambdas[1])^2 / (Slambda_2+error)\n",
    "omegamanual<-c(omega_h=omega_h,omega_t=omega_t)\n",
    "lambdas\n",
    "error\n",
    "omegamanual"
   ]
  },
  {
   "cell_type": "markdown",
   "metadata": {},
   "source": [
    "Los omegas están decentes, al menos el total, las cargas factoriales deberían ser mayores a 0.5. Habrá que hacer más investigación."
   ]
  }
 ],
 "metadata": {
  "gist": {
   "data": {
    "description": "Jupyter/IPM_Najera_EC_v1.ipynb",
    "public": false
   },
   "id": ""
  },
  "kernelspec": {
   "display_name": "R",
   "language": "R",
   "name": "ir"
  },
  "language_info": {
   "codemirror_mode": "r",
   "file_extension": ".r",
   "mimetype": "text/x-r-source",
   "name": "R",
   "pygments_lexer": "r",
   "version": "3.6.0"
  },
  "latex_envs": {
   "LaTeX_envs_menu_present": true,
   "autoclose": false,
   "autocomplete": true,
   "bibliofile": "biblio.bib",
   "cite_by": "apalike",
   "current_citInitial": 1,
   "eqLabelWithNumbers": true,
   "eqNumInitial": 1,
   "hotkeys": {
    "equation": "Ctrl-E",
    "itemize": "Ctrl-I"
   },
   "labels_anchors": false,
   "latex_user_defs": false,
   "report_style_numbering": false,
   "user_envs_cfg": false
  },
  "toc": {
   "base_numbering": 1,
   "nav_menu": {},
   "number_sections": true,
   "sideBar": true,
   "skip_h1_title": false,
   "title_cell": "Table of Contents",
   "title_sidebar": "Contents",
   "toc_cell": false,
   "toc_position": {},
   "toc_section_display": true,
   "toc_window_display": false
  }
 },
 "nbformat": 4,
 "nbformat_minor": 2
}
